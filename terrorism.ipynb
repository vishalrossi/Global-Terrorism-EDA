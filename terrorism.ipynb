{
 "cells": [
  {
   "cell_type": "code",
   "execution_count": 1,
   "metadata": {},
   "outputs": [
    {
     "data": {
      "application/javascript": [
       "\n",
       "            setTimeout(function() {\n",
       "                var nbb_cell_id = 1;\n",
       "                var nbb_unformatted_code = \"%load_ext nb_black\";\n",
       "                var nbb_formatted_code = \"%load_ext nb_black\";\n",
       "                var nbb_cells = Jupyter.notebook.get_cells();\n",
       "                for (var i = 0; i < nbb_cells.length; ++i) {\n",
       "                    if (nbb_cells[i].input_prompt_number == nbb_cell_id) {\n",
       "                        if (nbb_cells[i].get_text() == nbb_unformatted_code) {\n",
       "                             nbb_cells[i].set_text(nbb_formatted_code);\n",
       "                        }\n",
       "                        break;\n",
       "                    }\n",
       "                }\n",
       "            }, 500);\n",
       "            "
      ],
      "text/plain": [
       "<IPython.core.display.Javascript object>"
      ]
     },
     "metadata": {},
     "output_type": "display_data"
    }
   ],
   "source": [
    "%load_ext nb_black"
   ]
  },
  {
   "cell_type": "code",
   "execution_count": 2,
   "metadata": {},
   "outputs": [
    {
     "data": {
      "application/javascript": [
       "\n",
       "            setTimeout(function() {\n",
       "                var nbb_cell_id = 2;\n",
       "                var nbb_unformatted_code = \"import pyforest  ###Use major Python libraries without importing\\n\\nfrom IPython.core.interactiveshell import InteractiveShell\\n\\nInteractiveShell.ast_node_interactivity = \\\"all\\\"\\nimport warnings\\n\\nwarnings.filterwarnings(\\\"ignore\\\")\";\n",
       "                var nbb_formatted_code = \"import pyforest  ###Use major Python libraries without importing\\n\\nfrom IPython.core.interactiveshell import InteractiveShell\\n\\nInteractiveShell.ast_node_interactivity = \\\"all\\\"\\nimport warnings\\n\\nwarnings.filterwarnings(\\\"ignore\\\")\";\n",
       "                var nbb_cells = Jupyter.notebook.get_cells();\n",
       "                for (var i = 0; i < nbb_cells.length; ++i) {\n",
       "                    if (nbb_cells[i].input_prompt_number == nbb_cell_id) {\n",
       "                        if (nbb_cells[i].get_text() == nbb_unformatted_code) {\n",
       "                             nbb_cells[i].set_text(nbb_formatted_code);\n",
       "                        }\n",
       "                        break;\n",
       "                    }\n",
       "                }\n",
       "            }, 500);\n",
       "            "
      ],
      "text/plain": [
       "<IPython.core.display.Javascript object>"
      ]
     },
     "metadata": {},
     "output_type": "display_data"
    }
   ],
   "source": [
    "import pyforest  ###Use major Python libraries without importing\n",
    "\n",
    "from IPython.core.interactiveshell import InteractiveShell\n",
    "\n",
    "InteractiveShell.ast_node_interactivity = \"all\"\n",
    "import warnings\n",
    "\n",
    "warnings.filterwarnings(\"ignore\")"
   ]
  },
  {
   "cell_type": "code",
   "execution_count": 3,
   "metadata": {},
   "outputs": [
    {
     "data": {
      "application/javascript": [
       "\n",
       "        if (window._pyforest_update_imports_cell) { window._pyforest_update_imports_cell('import pandas as pd'); }\n",
       "    "
      ],
      "text/plain": [
       "<IPython.core.display.Javascript object>"
      ]
     },
     "metadata": {},
     "output_type": "display_data"
    },
    {
     "data": {
      "application/javascript": [
       "\n",
       "        if (window._pyforest_update_imports_cell) { window._pyforest_update_imports_cell('import pandas as pd'); }\n",
       "    "
      ],
      "text/plain": [
       "<IPython.core.display.Javascript object>"
      ]
     },
     "metadata": {},
     "output_type": "display_data"
    },
    {
     "data": {
      "application/javascript": [
       "\n",
       "        if (window._pyforest_update_imports_cell) { window._pyforest_update_imports_cell('import pandas as pd'); }\n",
       "    "
      ],
      "text/plain": [
       "<IPython.core.display.Javascript object>"
      ]
     },
     "metadata": {},
     "output_type": "display_data"
    },
    {
     "name": "stdout",
     "output_type": "stream",
     "text": [
      "CPU times: user 2.72 s, sys: 323 ms, total: 3.04 s\n",
      "Wall time: 3.05 s\n"
     ]
    },
    {
     "data": {
      "application/javascript": [
       "\n",
       "            setTimeout(function() {\n",
       "                var nbb_cell_id = 3;\n",
       "                var nbb_unformatted_code = \"chunks = pd.read_csv(\\n    \\\"/Users/vsinha/Desktop/ML/globalterrorismdb_0718dist.csv\\\",\\n    chunksize=100000,\\n    encoding=\\\"ISO-8859-1\\\",\\n    dtype=object,\\n)\\ndata = pd.DataFrame()\\n%time data=pd.concat(chunks)\";\n",
       "                var nbb_formatted_code = \"chunks = pd.read_csv(\\n    \\\"/Users/vsinha/Desktop/ML/globalterrorismdb_0718dist.csv\\\",\\n    chunksize=100000,\\n    encoding=\\\"ISO-8859-1\\\",\\n    dtype=object,\\n)\\ndata = pd.DataFrame()\\n%time data=pd.concat(chunks)\";\n",
       "                var nbb_cells = Jupyter.notebook.get_cells();\n",
       "                for (var i = 0; i < nbb_cells.length; ++i) {\n",
       "                    if (nbb_cells[i].input_prompt_number == nbb_cell_id) {\n",
       "                        if (nbb_cells[i].get_text() == nbb_unformatted_code) {\n",
       "                             nbb_cells[i].set_text(nbb_formatted_code);\n",
       "                        }\n",
       "                        break;\n",
       "                    }\n",
       "                }\n",
       "            }, 500);\n",
       "            "
      ],
      "text/plain": [
       "<IPython.core.display.Javascript object>"
      ]
     },
     "metadata": {},
     "output_type": "display_data"
    }
   ],
   "source": [
    "###Although this dataset is quite small in size, I wanted to show how to read data using chunks\n",
    "chunks = pd.read_csv(\n",
    "    \"/Users/vsinha/Desktop/ML/globalterrorismdb_0718dist.csv\",\n",
    "    chunksize=100000,\n",
    "    encoding=\"ISO-8859-1\",\n",
    "    dtype=object,\n",
    ")\n",
    "data = pd.DataFrame()\n",
    "%time data=pd.concat(chunks)"
   ]
  },
  {
   "cell_type": "code",
   "execution_count": 25,
   "metadata": {},
   "outputs": [
    {
     "data": {
      "text/html": [
       "<div>\n",
       "<style scoped>\n",
       "    .dataframe tbody tr th:only-of-type {\n",
       "        vertical-align: middle;\n",
       "    }\n",
       "\n",
       "    .dataframe tbody tr th {\n",
       "        vertical-align: top;\n",
       "    }\n",
       "\n",
       "    .dataframe thead th {\n",
       "        text-align: right;\n",
       "    }\n",
       "</style>\n",
       "<table border=\"1\" class=\"dataframe\">\n",
       "  <thead>\n",
       "    <tr style=\"text-align: right;\">\n",
       "      <th></th>\n",
       "      <th>eventid</th>\n",
       "      <th>iyear</th>\n",
       "      <th>imonth</th>\n",
       "      <th>iday</th>\n",
       "      <th>approxdate</th>\n",
       "      <th>extended</th>\n",
       "      <th>resolution</th>\n",
       "      <th>country</th>\n",
       "      <th>country_txt</th>\n",
       "      <th>region</th>\n",
       "      <th>...</th>\n",
       "      <th>addnotes</th>\n",
       "      <th>scite1</th>\n",
       "      <th>scite2</th>\n",
       "      <th>scite3</th>\n",
       "      <th>dbsource</th>\n",
       "      <th>INT_LOG</th>\n",
       "      <th>INT_IDEO</th>\n",
       "      <th>INT_MISC</th>\n",
       "      <th>INT_ANY</th>\n",
       "      <th>related</th>\n",
       "    </tr>\n",
       "  </thead>\n",
       "  <tbody>\n",
       "    <tr>\n",
       "      <th>0</th>\n",
       "      <td>197000000001</td>\n",
       "      <td>1970</td>\n",
       "      <td>7</td>\n",
       "      <td>2</td>\n",
       "      <td>NaN</td>\n",
       "      <td>0</td>\n",
       "      <td>NaN</td>\n",
       "      <td>58</td>\n",
       "      <td>Dominican Republic</td>\n",
       "      <td>2</td>\n",
       "      <td>...</td>\n",
       "      <td>NaN</td>\n",
       "      <td>NaN</td>\n",
       "      <td>NaN</td>\n",
       "      <td>NaN</td>\n",
       "      <td>PGIS</td>\n",
       "      <td>0</td>\n",
       "      <td>0</td>\n",
       "      <td>0</td>\n",
       "      <td>0</td>\n",
       "      <td>NaN</td>\n",
       "    </tr>\n",
       "    <tr>\n",
       "      <th>1</th>\n",
       "      <td>197000000002</td>\n",
       "      <td>1970</td>\n",
       "      <td>0</td>\n",
       "      <td>0</td>\n",
       "      <td>NaN</td>\n",
       "      <td>0</td>\n",
       "      <td>NaN</td>\n",
       "      <td>130</td>\n",
       "      <td>Mexico</td>\n",
       "      <td>1</td>\n",
       "      <td>...</td>\n",
       "      <td>NaN</td>\n",
       "      <td>NaN</td>\n",
       "      <td>NaN</td>\n",
       "      <td>NaN</td>\n",
       "      <td>PGIS</td>\n",
       "      <td>0</td>\n",
       "      <td>1</td>\n",
       "      <td>1</td>\n",
       "      <td>1</td>\n",
       "      <td>NaN</td>\n",
       "    </tr>\n",
       "    <tr>\n",
       "      <th>2</th>\n",
       "      <td>197001000001</td>\n",
       "      <td>1970</td>\n",
       "      <td>1</td>\n",
       "      <td>0</td>\n",
       "      <td>NaN</td>\n",
       "      <td>0</td>\n",
       "      <td>NaN</td>\n",
       "      <td>160</td>\n",
       "      <td>Philippines</td>\n",
       "      <td>5</td>\n",
       "      <td>...</td>\n",
       "      <td>NaN</td>\n",
       "      <td>NaN</td>\n",
       "      <td>NaN</td>\n",
       "      <td>NaN</td>\n",
       "      <td>PGIS</td>\n",
       "      <td>-9</td>\n",
       "      <td>-9</td>\n",
       "      <td>1</td>\n",
       "      <td>1</td>\n",
       "      <td>NaN</td>\n",
       "    </tr>\n",
       "    <tr>\n",
       "      <th>3</th>\n",
       "      <td>197001000002</td>\n",
       "      <td>1970</td>\n",
       "      <td>1</td>\n",
       "      <td>0</td>\n",
       "      <td>NaN</td>\n",
       "      <td>0</td>\n",
       "      <td>NaN</td>\n",
       "      <td>78</td>\n",
       "      <td>Greece</td>\n",
       "      <td>8</td>\n",
       "      <td>...</td>\n",
       "      <td>NaN</td>\n",
       "      <td>NaN</td>\n",
       "      <td>NaN</td>\n",
       "      <td>NaN</td>\n",
       "      <td>PGIS</td>\n",
       "      <td>-9</td>\n",
       "      <td>-9</td>\n",
       "      <td>1</td>\n",
       "      <td>1</td>\n",
       "      <td>NaN</td>\n",
       "    </tr>\n",
       "    <tr>\n",
       "      <th>4</th>\n",
       "      <td>197001000003</td>\n",
       "      <td>1970</td>\n",
       "      <td>1</td>\n",
       "      <td>0</td>\n",
       "      <td>NaN</td>\n",
       "      <td>0</td>\n",
       "      <td>NaN</td>\n",
       "      <td>101</td>\n",
       "      <td>Japan</td>\n",
       "      <td>4</td>\n",
       "      <td>...</td>\n",
       "      <td>NaN</td>\n",
       "      <td>NaN</td>\n",
       "      <td>NaN</td>\n",
       "      <td>NaN</td>\n",
       "      <td>PGIS</td>\n",
       "      <td>-9</td>\n",
       "      <td>-9</td>\n",
       "      <td>1</td>\n",
       "      <td>1</td>\n",
       "      <td>NaN</td>\n",
       "    </tr>\n",
       "  </tbody>\n",
       "</table>\n",
       "<p>5 rows × 135 columns</p>\n",
       "</div>"
      ],
      "text/plain": [
       "        eventid iyear imonth iday approxdate extended resolution country  \\\n",
       "0  197000000001  1970      7    2        NaN        0        NaN      58   \n",
       "1  197000000002  1970      0    0        NaN        0        NaN     130   \n",
       "2  197001000001  1970      1    0        NaN        0        NaN     160   \n",
       "3  197001000002  1970      1    0        NaN        0        NaN      78   \n",
       "4  197001000003  1970      1    0        NaN        0        NaN     101   \n",
       "\n",
       "          country_txt region  ... addnotes scite1 scite2 scite3 dbsource  \\\n",
       "0  Dominican Republic      2  ...      NaN    NaN    NaN    NaN     PGIS   \n",
       "1              Mexico      1  ...      NaN    NaN    NaN    NaN     PGIS   \n",
       "2         Philippines      5  ...      NaN    NaN    NaN    NaN     PGIS   \n",
       "3              Greece      8  ...      NaN    NaN    NaN    NaN     PGIS   \n",
       "4               Japan      4  ...      NaN    NaN    NaN    NaN     PGIS   \n",
       "\n",
       "  INT_LOG INT_IDEO INT_MISC INT_ANY related  \n",
       "0       0        0        0       0     NaN  \n",
       "1       0        1        1       1     NaN  \n",
       "2      -9       -9        1       1     NaN  \n",
       "3      -9       -9        1       1     NaN  \n",
       "4      -9       -9        1       1     NaN  \n",
       "\n",
       "[5 rows x 135 columns]"
      ]
     },
     "execution_count": 25,
     "metadata": {},
     "output_type": "execute_result"
    },
    {
     "data": {
      "application/javascript": [
       "\n",
       "            setTimeout(function() {\n",
       "                var nbb_cell_id = 25;\n",
       "                var nbb_unformatted_code = \"###View of the imported data\\ndata.head(5)\";\n",
       "                var nbb_formatted_code = \"###View of the imported data\\ndata.head(5)\";\n",
       "                var nbb_cells = Jupyter.notebook.get_cells();\n",
       "                for (var i = 0; i < nbb_cells.length; ++i) {\n",
       "                    if (nbb_cells[i].input_prompt_number == nbb_cell_id) {\n",
       "                        if (nbb_cells[i].get_text() == nbb_unformatted_code) {\n",
       "                             nbb_cells[i].set_text(nbb_formatted_code);\n",
       "                        }\n",
       "                        break;\n",
       "                    }\n",
       "                }\n",
       "            }, 500);\n",
       "            "
      ],
      "text/plain": [
       "<IPython.core.display.Javascript object>"
      ]
     },
     "metadata": {},
     "output_type": "display_data"
    }
   ],
   "source": [
    "###View of the imported data\n",
    "data.head(5)"
   ]
  },
  {
   "cell_type": "code",
   "execution_count": 11,
   "metadata": {},
   "outputs": [
    {
     "name": "stdout",
     "output_type": "stream",
     "text": [
      "The total number of enteries in the terrorism dataset is 181691\n",
      "\n",
      "<class 'pandas.core.frame.DataFrame'>\n",
      "RangeIndex: 181691 entries, 0 to 181690\n",
      "Columns: 135 entries, eventid to related\n",
      "dtypes: object(135)\n",
      "memory usage: 187.1+ MB\n"
     ]
    },
    {
     "data": {
      "application/javascript": [
       "\n",
       "            setTimeout(function() {\n",
       "                var nbb_cell_id = 11;\n",
       "                var nbb_unformatted_code = \"print(\\\"The total number of enteries in the terrorism dataset is \\\" + str(len(data)))\\nprint()\\ndata.info()\\n# data.describe()\";\n",
       "                var nbb_formatted_code = \"print(\\\"The total number of enteries in the terrorism dataset is \\\" + str(len(data)))\\nprint()\\ndata.info()\\n# data.describe()\";\n",
       "                var nbb_cells = Jupyter.notebook.get_cells();\n",
       "                for (var i = 0; i < nbb_cells.length; ++i) {\n",
       "                    if (nbb_cells[i].input_prompt_number == nbb_cell_id) {\n",
       "                        if (nbb_cells[i].get_text() == nbb_unformatted_code) {\n",
       "                             nbb_cells[i].set_text(nbb_formatted_code);\n",
       "                        }\n",
       "                        break;\n",
       "                    }\n",
       "                }\n",
       "            }, 500);\n",
       "            "
      ],
      "text/plain": [
       "<IPython.core.display.Javascript object>"
      ]
     },
     "metadata": {},
     "output_type": "display_data"
    }
   ],
   "source": [
    "print(\"The total number of enteries in the terrorism dataset is \" + str(len(data)))\n",
    "print() ##to insert space between 2 print statements\n",
    "data.info()\n",
    "# data.describe()"
   ]
  },
  {
   "cell_type": "code",
   "execution_count": 23,
   "metadata": {},
   "outputs": [
    {
     "data": {
      "text/plain": [
       "array(['eventid', 'iyear', 'imonth', 'iday', 'approxdate', 'extended',\n",
       "       'resolution', 'country', 'country_txt', 'region', 'region_txt',\n",
       "       'provstate', 'city', 'latitude', 'longitude', 'specificity',\n",
       "       'vicinity', 'location', 'summary', 'crit1', 'crit2', 'crit3',\n",
       "       'doubtterr', 'alternative', 'alternative_txt', 'multiple',\n",
       "       'success', 'suicide', 'attacktype1', 'attacktype1_txt',\n",
       "       'attacktype2', 'attacktype2_txt', 'attacktype3', 'attacktype3_txt',\n",
       "       'targtype1', 'targtype1_txt', 'targsubtype1', 'targsubtype1_txt',\n",
       "       'corp1', 'target1', 'natlty1', 'natlty1_txt', 'targtype2',\n",
       "       'targtype2_txt', 'targsubtype2', 'targsubtype2_txt', 'corp2',\n",
       "       'target2', 'natlty2', 'natlty2_txt', 'targtype3', 'targtype3_txt',\n",
       "       'targsubtype3', 'targsubtype3_txt', 'corp3', 'target3', 'natlty3',\n",
       "       'natlty3_txt', 'gname', 'gsubname', 'gname2', 'gsubname2',\n",
       "       'gname3', 'gsubname3', 'motive', 'guncertain1', 'guncertain2',\n",
       "       'guncertain3', 'individual', 'nperps', 'nperpcap', 'claimed',\n",
       "       'claimmode', 'claimmode_txt', 'claim2', 'claimmode2',\n",
       "       'claimmode2_txt', 'claim3', 'claimmode3', 'claimmode3_txt',\n",
       "       'compclaim', 'weaptype1', 'weaptype1_txt', 'weapsubtype1',\n",
       "       'weapsubtype1_txt', 'weaptype2', 'weaptype2_txt', 'weapsubtype2',\n",
       "       'weapsubtype2_txt', 'weaptype3', 'weaptype3_txt', 'weapsubtype3',\n",
       "       'weapsubtype3_txt', 'weaptype4', 'weaptype4_txt', 'weapsubtype4',\n",
       "       'weapsubtype4_txt', 'weapdetail', 'nkill', 'nkillus', 'nkillter',\n",
       "       'nwound', 'nwoundus', 'nwoundte', 'property', 'propextent',\n",
       "       'propextent_txt', 'propvalue', 'propcomment', 'ishostkid',\n",
       "       'nhostkid', 'nhostkidus', 'nhours', 'ndays', 'divert',\n",
       "       'kidhijcountry', 'ransom', 'ransomamt', 'ransomamtus',\n",
       "       'ransompaid', 'ransompaidus', 'ransomnote', 'hostkidoutcome',\n",
       "       'hostkidoutcome_txt', 'nreleased', 'addnotes', 'scite1', 'scite2',\n",
       "       'scite3', 'dbsource', 'INT_LOG', 'INT_IDEO', 'INT_MISC', 'INT_ANY',\n",
       "       'related'], dtype=object)"
      ]
     },
     "execution_count": 23,
     "metadata": {},
     "output_type": "execute_result"
    },
    {
     "data": {
      "application/javascript": [
       "\n",
       "            setTimeout(function() {\n",
       "                var nbb_cell_id = 23;\n",
       "                var nbb_unformatted_code = \"###Get column names\\ndata.columns.values\";\n",
       "                var nbb_formatted_code = \"###Get column names\\ndata.columns.values\";\n",
       "                var nbb_cells = Jupyter.notebook.get_cells();\n",
       "                for (var i = 0; i < nbb_cells.length; ++i) {\n",
       "                    if (nbb_cells[i].input_prompt_number == nbb_cell_id) {\n",
       "                        if (nbb_cells[i].get_text() == nbb_unformatted_code) {\n",
       "                             nbb_cells[i].set_text(nbb_formatted_code);\n",
       "                        }\n",
       "                        break;\n",
       "                    }\n",
       "                }\n",
       "            }, 500);\n",
       "            "
      ],
      "text/plain": [
       "<IPython.core.display.Javascript object>"
      ]
     },
     "metadata": {},
     "output_type": "display_data"
    }
   ],
   "source": [
    "###Get column names\n",
    "data.columns.values"
   ]
  },
  {
   "cell_type": "code",
   "execution_count": 21,
   "metadata": {},
   "outputs": [
    {
     "data": {
      "text/plain": [
       "array([     0,      0,      0,      0, 172452,      0, 179471,      0,\n",
       "            0,      0,      0,    421,    434,   4556,   4557,      6,\n",
       "            0, 126196,  66129,      0,      0,      0,      1, 152680,\n",
       "       152680,      1,      0,      0,      0,      0, 175377, 175377,\n",
       "       181263, 181263,      0,      0,  10373,  10373,  42550,    636,\n",
       "         1559,   1559, 170547, 170547, 171006, 171006, 171574, 170671,\n",
       "       170863, 170863, 180515, 180515, 180594, 180594, 180665, 180516,\n",
       "       180544, 180544,      0, 175801, 179678, 181531, 181367, 181671,\n",
       "       131130,    380, 179736, 181371,      0,  71115,  69489,  66120,\n",
       "       162608, 162608, 179801, 181075, 181075, 181373, 181558, 181558,\n",
       "       176852,      0,      0,  20768,  20768, 168564, 168564, 170149,\n",
       "       170149, 179828, 179828, 179998, 179998, 181618, 181618, 181621,\n",
       "       181621,  67670,  10313,  64446,  66958,  16311,  64702,  69143,\n",
       "            0, 117626, 117626, 142702, 123732,    178, 168119, 168174,\n",
       "       177628, 173567, 181367, 178386, 104310, 180341, 181128, 180917,\n",
       "       181139, 181177, 170700, 170700, 171291, 153402,  66191, 104758,\n",
       "       138175,      0,      0,      0,      0,      0, 156653])"
      ]
     },
     "execution_count": 21,
     "metadata": {},
     "output_type": "execute_result"
    },
    {
     "data": {
      "application/javascript": [
       "\n",
       "            setTimeout(function() {\n",
       "                var nbb_cell_id = 21;\n",
       "                var nbb_unformatted_code = \"###check missing values in the data\\ndata.isnull().sum().values\";\n",
       "                var nbb_formatted_code = \"###check missing values in the data\\ndata.isnull().sum().values\";\n",
       "                var nbb_cells = Jupyter.notebook.get_cells();\n",
       "                for (var i = 0; i < nbb_cells.length; ++i) {\n",
       "                    if (nbb_cells[i].input_prompt_number == nbb_cell_id) {\n",
       "                        if (nbb_cells[i].get_text() == nbb_unformatted_code) {\n",
       "                             nbb_cells[i].set_text(nbb_formatted_code);\n",
       "                        }\n",
       "                        break;\n",
       "                    }\n",
       "                }\n",
       "            }, 500);\n",
       "            "
      ],
      "text/plain": [
       "<IPython.core.display.Javascript object>"
      ]
     },
     "metadata": {},
     "output_type": "display_data"
    }
   ],
   "source": [
    "###check missing values in the data\n",
    "data.isnull().sum().values"
   ]
  },
  {
   "cell_type": "code",
   "execution_count": 18,
   "metadata": {},
   "outputs": [
    {
     "data": {
      "text/plain": [
       "gsubname3           181671\n",
       "weapsubtype4_txt    181621\n",
       "weapsubtype4        181621\n",
       "weaptype4           181618\n",
       "weaptype4_txt       181618\n",
       "claimmode3          181558\n",
       "claimmode3_txt      181558\n",
       "gsubname2           181531\n",
       "claim3              181373\n",
       "guncertain3         181371\n",
       "gname3              181367\n",
       "divert              181367\n",
       "attacktype3         181263\n",
       "attacktype3_txt     181263\n",
       "ransomnote          181177\n",
       "ransompaidus        181139\n",
       "ransomamtus         181128\n",
       "claimmode2          181075\n",
       "claimmode2_txt      181075\n",
       "ransompaid          180917\n",
       "corp3               180665\n",
       "targsubtype3        180594\n",
       "targsubtype3_txt    180594\n",
       "natlty3             180544\n",
       "natlty3_txt         180544\n",
       "target3             180516\n",
       "targtype3_txt       180515\n",
       "targtype3           180515\n",
       "ransomamt           180341\n",
       "weapsubtype3        179998\n",
       "dtype: int64"
      ]
     },
     "execution_count": 18,
     "metadata": {},
     "output_type": "execute_result"
    },
    {
     "data": {
      "application/javascript": [
       "\n",
       "            setTimeout(function() {\n",
       "                var nbb_cell_id = 18;\n",
       "                var nbb_unformatted_code = \"data.isnull().sum().sort_values(ascending=False).head(30)\";\n",
       "                var nbb_formatted_code = \"data.isnull().sum().sort_values(ascending=False).head(30)\";\n",
       "                var nbb_cells = Jupyter.notebook.get_cells();\n",
       "                for (var i = 0; i < nbb_cells.length; ++i) {\n",
       "                    if (nbb_cells[i].input_prompt_number == nbb_cell_id) {\n",
       "                        if (nbb_cells[i].get_text() == nbb_unformatted_code) {\n",
       "                             nbb_cells[i].set_text(nbb_formatted_code);\n",
       "                        }\n",
       "                        break;\n",
       "                    }\n",
       "                }\n",
       "            }, 500);\n",
       "            "
      ],
      "text/plain": [
       "<IPython.core.display.Javascript object>"
      ]
     },
     "metadata": {},
     "output_type": "display_data"
    }
   ],
   "source": [
    "###Sort the columns with highest number of missing values\n",
    "data.isnull().sum().sort_values(ascending=False).head(30)"
   ]
  },
  {
   "cell_type": "code",
   "execution_count": 41,
   "metadata": {},
   "outputs": [
    {
     "data": {
      "text/html": [
       "<div>\n",
       "<style scoped>\n",
       "    .dataframe tbody tr th:only-of-type {\n",
       "        vertical-align: middle;\n",
       "    }\n",
       "\n",
       "    .dataframe tbody tr th {\n",
       "        vertical-align: top;\n",
       "    }\n",
       "\n",
       "    .dataframe thead th {\n",
       "        text-align: right;\n",
       "    }\n",
       "</style>\n",
       "<table border=\"1\" class=\"dataframe\">\n",
       "  <thead>\n",
       "    <tr style=\"text-align: right;\">\n",
       "      <th></th>\n",
       "      <th>eventid</th>\n",
       "      <th>iyear</th>\n",
       "      <th>imonth</th>\n",
       "      <th>iday</th>\n",
       "      <th>extended</th>\n",
       "      <th>country</th>\n",
       "      <th>country_txt</th>\n",
       "      <th>region</th>\n",
       "      <th>region_txt</th>\n",
       "      <th>provstate</th>\n",
       "      <th>...</th>\n",
       "      <th>weapsubtype1_txt</th>\n",
       "      <th>nkill</th>\n",
       "      <th>nwound</th>\n",
       "      <th>property</th>\n",
       "      <th>ishostkid</th>\n",
       "      <th>dbsource</th>\n",
       "      <th>INT_LOG</th>\n",
       "      <th>INT_IDEO</th>\n",
       "      <th>INT_MISC</th>\n",
       "      <th>INT_ANY</th>\n",
       "    </tr>\n",
       "  </thead>\n",
       "  <tbody>\n",
       "    <tr>\n",
       "      <th>0</th>\n",
       "      <td>197000000001</td>\n",
       "      <td>1970</td>\n",
       "      <td>7</td>\n",
       "      <td>2</td>\n",
       "      <td>0</td>\n",
       "      <td>58</td>\n",
       "      <td>Dominican Republic</td>\n",
       "      <td>2</td>\n",
       "      <td>Central America &amp; Caribbean</td>\n",
       "      <td>NaN</td>\n",
       "      <td>...</td>\n",
       "      <td>NaN</td>\n",
       "      <td>1</td>\n",
       "      <td>0</td>\n",
       "      <td>0</td>\n",
       "      <td>0</td>\n",
       "      <td>PGIS</td>\n",
       "      <td>0</td>\n",
       "      <td>0</td>\n",
       "      <td>0</td>\n",
       "      <td>0</td>\n",
       "    </tr>\n",
       "    <tr>\n",
       "      <th>1</th>\n",
       "      <td>197000000002</td>\n",
       "      <td>1970</td>\n",
       "      <td>0</td>\n",
       "      <td>0</td>\n",
       "      <td>0</td>\n",
       "      <td>130</td>\n",
       "      <td>Mexico</td>\n",
       "      <td>1</td>\n",
       "      <td>North America</td>\n",
       "      <td>Federal</td>\n",
       "      <td>...</td>\n",
       "      <td>NaN</td>\n",
       "      <td>0</td>\n",
       "      <td>0</td>\n",
       "      <td>0</td>\n",
       "      <td>1</td>\n",
       "      <td>PGIS</td>\n",
       "      <td>0</td>\n",
       "      <td>1</td>\n",
       "      <td>1</td>\n",
       "      <td>1</td>\n",
       "    </tr>\n",
       "    <tr>\n",
       "      <th>2</th>\n",
       "      <td>197001000001</td>\n",
       "      <td>1970</td>\n",
       "      <td>1</td>\n",
       "      <td>0</td>\n",
       "      <td>0</td>\n",
       "      <td>160</td>\n",
       "      <td>Philippines</td>\n",
       "      <td>5</td>\n",
       "      <td>Southeast Asia</td>\n",
       "      <td>Tarlac</td>\n",
       "      <td>...</td>\n",
       "      <td>NaN</td>\n",
       "      <td>1</td>\n",
       "      <td>0</td>\n",
       "      <td>0</td>\n",
       "      <td>0</td>\n",
       "      <td>PGIS</td>\n",
       "      <td>-9</td>\n",
       "      <td>-9</td>\n",
       "      <td>1</td>\n",
       "      <td>1</td>\n",
       "    </tr>\n",
       "    <tr>\n",
       "      <th>3</th>\n",
       "      <td>197001000002</td>\n",
       "      <td>1970</td>\n",
       "      <td>1</td>\n",
       "      <td>0</td>\n",
       "      <td>0</td>\n",
       "      <td>78</td>\n",
       "      <td>Greece</td>\n",
       "      <td>8</td>\n",
       "      <td>Western Europe</td>\n",
       "      <td>Attica</td>\n",
       "      <td>...</td>\n",
       "      <td>Unknown Explosive Type</td>\n",
       "      <td>NaN</td>\n",
       "      <td>NaN</td>\n",
       "      <td>1</td>\n",
       "      <td>0</td>\n",
       "      <td>PGIS</td>\n",
       "      <td>-9</td>\n",
       "      <td>-9</td>\n",
       "      <td>1</td>\n",
       "      <td>1</td>\n",
       "    </tr>\n",
       "    <tr>\n",
       "      <th>4</th>\n",
       "      <td>197001000003</td>\n",
       "      <td>1970</td>\n",
       "      <td>1</td>\n",
       "      <td>0</td>\n",
       "      <td>0</td>\n",
       "      <td>101</td>\n",
       "      <td>Japan</td>\n",
       "      <td>4</td>\n",
       "      <td>East Asia</td>\n",
       "      <td>Fukouka</td>\n",
       "      <td>...</td>\n",
       "      <td>NaN</td>\n",
       "      <td>NaN</td>\n",
       "      <td>NaN</td>\n",
       "      <td>1</td>\n",
       "      <td>0</td>\n",
       "      <td>PGIS</td>\n",
       "      <td>-9</td>\n",
       "      <td>-9</td>\n",
       "      <td>1</td>\n",
       "      <td>1</td>\n",
       "    </tr>\n",
       "  </tbody>\n",
       "</table>\n",
       "<p>5 rows × 47 columns</p>\n",
       "</div>"
      ],
      "text/plain": [
       "        eventid iyear imonth iday extended country         country_txt region  \\\n",
       "0  197000000001  1970      7    2        0      58  Dominican Republic      2   \n",
       "1  197000000002  1970      0    0        0     130              Mexico      1   \n",
       "2  197001000001  1970      1    0        0     160         Philippines      5   \n",
       "3  197001000002  1970      1    0        0      78              Greece      8   \n",
       "4  197001000003  1970      1    0        0     101               Japan      4   \n",
       "\n",
       "                    region_txt provstate  ...        weapsubtype1_txt nkill  \\\n",
       "0  Central America & Caribbean       NaN  ...                     NaN     1   \n",
       "1                North America   Federal  ...                     NaN     0   \n",
       "2               Southeast Asia    Tarlac  ...                     NaN     1   \n",
       "3               Western Europe    Attica  ...  Unknown Explosive Type   NaN   \n",
       "4                    East Asia   Fukouka  ...                     NaN   NaN   \n",
       "\n",
       "  nwound property ishostkid dbsource INT_LOG INT_IDEO INT_MISC INT_ANY  \n",
       "0      0        0         0     PGIS       0        0        0       0  \n",
       "1      0        0         1     PGIS       0        1        1       1  \n",
       "2      0        0         0     PGIS      -9       -9        1       1  \n",
       "3    NaN        1         0     PGIS      -9       -9        1       1  \n",
       "4    NaN        1         0     PGIS      -9       -9        1       1  \n",
       "\n",
       "[5 rows x 47 columns]"
      ]
     },
     "execution_count": 41,
     "metadata": {},
     "output_type": "execute_result"
    },
    {
     "name": "stdout",
     "output_type": "stream",
     "text": [
      "The shape of the new dataset (<20% missingness) is (181691, 47)\n"
     ]
    },
    {
     "data": {
      "application/javascript": [
       "\n",
       "            setTimeout(function() {\n",
       "                var nbb_cell_id = 41;\n",
       "                var nbb_unformatted_code = \"###lets get rid of all those columns where missing data is greater than 20%\\n###After this step, we are now down to 47 columns from original 135 columns\\n\\nlimitPer = len(data) * 0.80\\ndata1 = data.dropna(thresh=limitPer, axis=1)\\ndata1.head()\\n\\nprint(\\\"The shape of the new dataset (<20% missingness) is \\\" + str(data1.shape))\";\n",
       "                var nbb_formatted_code = \"###lets get rid of all those columns where missing data is greater than 20%\\n###After this step, we are now down to 47 columns from original 135 columns\\n\\nlimitPer = len(data) * 0.80\\ndata1 = data.dropna(thresh=limitPer, axis=1)\\ndata1.head()\\n\\nprint(\\\"The shape of the new dataset (<20% missingness) is \\\" + str(data1.shape))\";\n",
       "                var nbb_cells = Jupyter.notebook.get_cells();\n",
       "                for (var i = 0; i < nbb_cells.length; ++i) {\n",
       "                    if (nbb_cells[i].input_prompt_number == nbb_cell_id) {\n",
       "                        if (nbb_cells[i].get_text() == nbb_unformatted_code) {\n",
       "                             nbb_cells[i].set_text(nbb_formatted_code);\n",
       "                        }\n",
       "                        break;\n",
       "                    }\n",
       "                }\n",
       "            }, 500);\n",
       "            "
      ],
      "text/plain": [
       "<IPython.core.display.Javascript object>"
      ]
     },
     "metadata": {},
     "output_type": "display_data"
    }
   ],
   "source": [
    "###lets get rid of all those columns where missing data is greater than 20%\n",
    "###After this step, we are now down to 47 columns from original 135 columns\n",
    "\n",
    "limitPer = len(data) * 0.80\n",
    "data1 = data.dropna(thresh=limitPer, axis=1)\n",
    "data1.head()\n",
    "\n",
    "print(\"The shape of the new dataset (<20% missingness) is \" + str(data1.shape))"
   ]
  },
  {
   "cell_type": "code",
   "execution_count": 42,
   "metadata": {},
   "outputs": [
    {
     "name": "stdout",
     "output_type": "stream",
     "text": [
      "<class 'pandas.core.frame.DataFrame'>\n",
      "RangeIndex: 181691 entries, 0 to 181690\n",
      "Data columns (total 47 columns):\n",
      " #   Column            Non-Null Count   Dtype \n",
      "---  ------            --------------   ----- \n",
      " 0   eventid           181691 non-null  object\n",
      " 1   iyear             181691 non-null  object\n",
      " 2   imonth            181691 non-null  object\n",
      " 3   iday              181691 non-null  object\n",
      " 4   extended          181691 non-null  object\n",
      " 5   country           181691 non-null  object\n",
      " 6   country_txt       181691 non-null  object\n",
      " 7   region            181691 non-null  object\n",
      " 8   region_txt        181691 non-null  object\n",
      " 9   provstate         181270 non-null  object\n",
      " 10  city              181257 non-null  object\n",
      " 11  latitude          177135 non-null  object\n",
      " 12  longitude         177134 non-null  object\n",
      " 13  specificity       181685 non-null  object\n",
      " 14  vicinity          181691 non-null  object\n",
      " 15  crit1             181691 non-null  object\n",
      " 16  crit2             181691 non-null  object\n",
      " 17  crit3             181691 non-null  object\n",
      " 18  doubtterr         181690 non-null  object\n",
      " 19  multiple          181690 non-null  object\n",
      " 20  success           181691 non-null  object\n",
      " 21  suicide           181691 non-null  object\n",
      " 22  attacktype1       181691 non-null  object\n",
      " 23  attacktype1_txt   181691 non-null  object\n",
      " 24  targtype1         181691 non-null  object\n",
      " 25  targtype1_txt     181691 non-null  object\n",
      " 26  targsubtype1      171318 non-null  object\n",
      " 27  targsubtype1_txt  171318 non-null  object\n",
      " 28  target1           181055 non-null  object\n",
      " 29  natlty1           180132 non-null  object\n",
      " 30  natlty1_txt       180132 non-null  object\n",
      " 31  gname             181691 non-null  object\n",
      " 32  guncertain1       181311 non-null  object\n",
      " 33  individual        181691 non-null  object\n",
      " 34  weaptype1         181691 non-null  object\n",
      " 35  weaptype1_txt     181691 non-null  object\n",
      " 36  weapsubtype1      160923 non-null  object\n",
      " 37  weapsubtype1_txt  160923 non-null  object\n",
      " 38  nkill             171378 non-null  object\n",
      " 39  nwound            165380 non-null  object\n",
      " 40  property          181691 non-null  object\n",
      " 41  ishostkid         181513 non-null  object\n",
      " 42  dbsource          181691 non-null  object\n",
      " 43  INT_LOG           181691 non-null  object\n",
      " 44  INT_IDEO          181691 non-null  object\n",
      " 45  INT_MISC          181691 non-null  object\n",
      " 46  INT_ANY           181691 non-null  object\n",
      "dtypes: object(47)\n",
      "memory usage: 65.2+ MB\n"
     ]
    },
    {
     "data": {
      "application/javascript": [
       "\n",
       "            setTimeout(function() {\n",
       "                var nbb_cell_id = 42;\n",
       "                var nbb_unformatted_code = \"###Info of the new dataset\\ndata1.info()\";\n",
       "                var nbb_formatted_code = \"###Info of the new dataset\\ndata1.info()\";\n",
       "                var nbb_cells = Jupyter.notebook.get_cells();\n",
       "                for (var i = 0; i < nbb_cells.length; ++i) {\n",
       "                    if (nbb_cells[i].input_prompt_number == nbb_cell_id) {\n",
       "                        if (nbb_cells[i].get_text() == nbb_unformatted_code) {\n",
       "                             nbb_cells[i].set_text(nbb_formatted_code);\n",
       "                        }\n",
       "                        break;\n",
       "                    }\n",
       "                }\n",
       "            }, 500);\n",
       "            "
      ],
      "text/plain": [
       "<IPython.core.display.Javascript object>"
      ]
     },
     "metadata": {},
     "output_type": "display_data"
    }
   ],
   "source": [
    "###Info of the new dataset\n",
    "data1.info()"
   ]
  },
  {
   "cell_type": "code",
   "execution_count": 43,
   "metadata": {},
   "outputs": [
    {
     "data": {
      "text/plain": [
       "['eventid',\n",
       " 'iyear',\n",
       " 'imonth',\n",
       " 'iday',\n",
       " 'extended',\n",
       " 'country',\n",
       " 'country_txt',\n",
       " 'region',\n",
       " 'region_txt',\n",
       " 'provstate',\n",
       " 'city',\n",
       " 'latitude',\n",
       " 'longitude',\n",
       " 'specificity',\n",
       " 'vicinity',\n",
       " 'crit1',\n",
       " 'crit2',\n",
       " 'crit3',\n",
       " 'doubtterr',\n",
       " 'multiple',\n",
       " 'success',\n",
       " 'suicide',\n",
       " 'attacktype1',\n",
       " 'attacktype1_txt',\n",
       " 'targtype1',\n",
       " 'targtype1_txt',\n",
       " 'targsubtype1',\n",
       " 'targsubtype1_txt',\n",
       " 'target1',\n",
       " 'natlty1',\n",
       " 'natlty1_txt',\n",
       " 'gname',\n",
       " 'guncertain1',\n",
       " 'individual',\n",
       " 'weaptype1',\n",
       " 'weaptype1_txt',\n",
       " 'weapsubtype1',\n",
       " 'weapsubtype1_txt',\n",
       " 'nkill',\n",
       " 'nwound',\n",
       " 'property',\n",
       " 'ishostkid',\n",
       " 'dbsource',\n",
       " 'INT_LOG',\n",
       " 'INT_IDEO',\n",
       " 'INT_MISC',\n",
       " 'INT_ANY']"
      ]
     },
     "execution_count": 43,
     "metadata": {},
     "output_type": "execute_result"
    },
    {
     "data": {
      "text/plain": [
       "Index(['eventid', 'year', 'month', 'day', 'extended', 'country',\n",
       "       'country_name', 'region', 'region_name', 'province', 'city', 'latitude',\n",
       "       'longitude', 'specificity', 'vicinity', 'crit1', 'crit2', 'crit3',\n",
       "       'doubtterr', 'multiple', 'successful_attack', 'suicide_attack',\n",
       "       'attacktype', 'attack_method', 'targtype', 'target', 'targsubtype',\n",
       "       'target_general', 'target_specific', 'natlty1', 'nationality',\n",
       "       'terrorist_group', 'guncertain1', 'individual', 'weaptype',\n",
       "       'weapontype', 'weaponsubtype', 'weapon_specific', 'killed', 'wounded',\n",
       "       'property', 'ishostkid', 'source', 'INT_LOG', 'INT_IDEO', 'INT_MISC',\n",
       "       'INT_ANY'],\n",
       "      dtype='object')"
      ]
     },
     "execution_count": 43,
     "metadata": {},
     "output_type": "execute_result"
    },
    {
     "data": {
      "application/javascript": [
       "\n",
       "            setTimeout(function() {\n",
       "                var nbb_cell_id = 43;\n",
       "                var nbb_unformatted_code = \"###change some of the columns of data1 which has less than 20% of missing values\\ndata1.columns.values.tolist()\\ndata1.rename(\\n    columns={\\n        \\\"iyear\\\": \\\"year\\\",\\n        \\\"imonth\\\": \\\"month\\\",\\n        \\\"iday\\\": \\\"day\\\",\\n        \\\"country_txt\\\": \\\"country_name\\\",\\n        \\\"region_txt\\\": \\\"region_name\\\",\\n        \\\"provstate\\\": \\\"province\\\",\\n        \\\"success\\\": \\\"successful_attack\\\",\\n        \\\"suicide\\\": \\\"suicide_attack\\\",\\n        \\\"attacktype1\\\": \\\"attacktype\\\",\\n        \\\"attacktype1_txt\\\": \\\"attack_method\\\",\\n        \\\"targtype1\\\": \\\"targtype\\\",\\n        \\\"targtype1_txt\\\": \\\"target\\\",\\n        \\\"targsubtype1\\\": \\\"targsubtype\\\",\\n        \\\"targsubtype1_txt\\\": \\\"target_general\\\",\\n        \\\"target1\\\": \\\"target_specific\\\",\\n        \\\"natlty1_txt\\\": \\\"nationality\\\",\\n        \\\"gname\\\": \\\"terrorist_group\\\",\\n        \\\"weaptype1\\\": \\\"\\\",\\n        \\\"weaptype1\\\": \\\"weaptype\\\",\\n        \\\"weaptype1_txt\\\": \\\"weapontype\\\",\\n        \\\"weapsubtype1\\\": \\\"weaponsubtype\\\",\\n        \\\"weapsubtype1_txt\\\": \\\"weapon_specific\\\",\\n        \\\"nkill\\\": \\\"killed\\\",\\n        \\\"nwound\\\": \\\"wounded\\\",\\n        \\\"dbsource\\\": \\\"source\\\",\\n    },\\n    inplace=True,\\n)\\n\\n###print the updated column names\\ndata1.columns\";\n",
       "                var nbb_formatted_code = \"###change some of the columns of data1 which has less than 20% of missing values\\ndata1.columns.values.tolist()\\ndata1.rename(\\n    columns={\\n        \\\"iyear\\\": \\\"year\\\",\\n        \\\"imonth\\\": \\\"month\\\",\\n        \\\"iday\\\": \\\"day\\\",\\n        \\\"country_txt\\\": \\\"country_name\\\",\\n        \\\"region_txt\\\": \\\"region_name\\\",\\n        \\\"provstate\\\": \\\"province\\\",\\n        \\\"success\\\": \\\"successful_attack\\\",\\n        \\\"suicide\\\": \\\"suicide_attack\\\",\\n        \\\"attacktype1\\\": \\\"attacktype\\\",\\n        \\\"attacktype1_txt\\\": \\\"attack_method\\\",\\n        \\\"targtype1\\\": \\\"targtype\\\",\\n        \\\"targtype1_txt\\\": \\\"target\\\",\\n        \\\"targsubtype1\\\": \\\"targsubtype\\\",\\n        \\\"targsubtype1_txt\\\": \\\"target_general\\\",\\n        \\\"target1\\\": \\\"target_specific\\\",\\n        \\\"natlty1_txt\\\": \\\"nationality\\\",\\n        \\\"gname\\\": \\\"terrorist_group\\\",\\n        \\\"weaptype1\\\": \\\"\\\",\\n        \\\"weaptype1\\\": \\\"weaptype\\\",\\n        \\\"weaptype1_txt\\\": \\\"weapontype\\\",\\n        \\\"weapsubtype1\\\": \\\"weaponsubtype\\\",\\n        \\\"weapsubtype1_txt\\\": \\\"weapon_specific\\\",\\n        \\\"nkill\\\": \\\"killed\\\",\\n        \\\"nwound\\\": \\\"wounded\\\",\\n        \\\"dbsource\\\": \\\"source\\\",\\n    },\\n    inplace=True,\\n)\\n\\n###print the updated column names\\ndata1.columns\";\n",
       "                var nbb_cells = Jupyter.notebook.get_cells();\n",
       "                for (var i = 0; i < nbb_cells.length; ++i) {\n",
       "                    if (nbb_cells[i].input_prompt_number == nbb_cell_id) {\n",
       "                        if (nbb_cells[i].get_text() == nbb_unformatted_code) {\n",
       "                             nbb_cells[i].set_text(nbb_formatted_code);\n",
       "                        }\n",
       "                        break;\n",
       "                    }\n",
       "                }\n",
       "            }, 500);\n",
       "            "
      ],
      "text/plain": [
       "<IPython.core.display.Javascript object>"
      ]
     },
     "metadata": {},
     "output_type": "display_data"
    }
   ],
   "source": [
    "###change some of the columns of data1 which has less than 20% of missing values\n",
    "data1.columns.values.tolist()\n",
    "data1.rename(\n",
    "    columns={\n",
    "        \"iyear\": \"year\",\n",
    "        \"imonth\": \"month\",\n",
    "        \"iday\": \"day\",\n",
    "        \"country_txt\": \"country_name\",\n",
    "        \"region_txt\": \"region_name\",\n",
    "        \"provstate\": \"province\",\n",
    "        \"success\": \"successful_attack\",\n",
    "        \"suicide\": \"suicide_attack\",\n",
    "        \"attacktype1\": \"attacktype\",\n",
    "        \"attacktype1_txt\": \"attack_method\",\n",
    "        \"targtype1\": \"targtype\",\n",
    "        \"targtype1_txt\": \"target\",\n",
    "        \"targsubtype1\": \"targsubtype\",\n",
    "        \"targsubtype1_txt\": \"target_general\",\n",
    "        \"target1\": \"target_specific\",\n",
    "        \"natlty1_txt\": \"nationality\",\n",
    "        \"gname\": \"terrorist_group\",\n",
    "        \"weaptype1\": \"\",\n",
    "        \"weaptype1\": \"weaptype\",\n",
    "        \"weaptype1_txt\": \"weapontype\",\n",
    "        \"weapsubtype1\": \"weaponsubtype\",\n",
    "        \"weapsubtype1_txt\": \"weapon_specific\",\n",
    "        \"nkill\": \"killed\",\n",
    "        \"nwound\": \"wounded\",\n",
    "        \"dbsource\": \"source\",\n",
    "    },\n",
    "    inplace=True,\n",
    ")\n",
    "\n",
    "###check the updated column names\n",
    "data1.columns"
   ]
  },
  {
   "cell_type": "code",
   "execution_count": 84,
   "metadata": {},
   "outputs": [
    {
     "data": {
      "text/html": [
       "<div>\n",
       "<style scoped>\n",
       "    .dataframe tbody tr th:only-of-type {\n",
       "        vertical-align: middle;\n",
       "    }\n",
       "\n",
       "    .dataframe tbody tr th {\n",
       "        vertical-align: top;\n",
       "    }\n",
       "\n",
       "    .dataframe thead th {\n",
       "        text-align: right;\n",
       "    }\n",
       "</style>\n",
       "<table border=\"1\" class=\"dataframe\">\n",
       "  <thead>\n",
       "    <tr style=\"text-align: right;\">\n",
       "      <th></th>\n",
       "      <th>eventid</th>\n",
       "      <th>year</th>\n",
       "      <th>month</th>\n",
       "      <th>day</th>\n",
       "      <th>extended</th>\n",
       "      <th>country</th>\n",
       "      <th>country_name</th>\n",
       "      <th>region</th>\n",
       "      <th>region_name</th>\n",
       "      <th>province</th>\n",
       "      <th>...</th>\n",
       "      <th>nationality</th>\n",
       "      <th>terrorist_group</th>\n",
       "      <th>weaptype</th>\n",
       "      <th>weapontype</th>\n",
       "      <th>weaponsubtype</th>\n",
       "      <th>weapon_specific</th>\n",
       "      <th>killed</th>\n",
       "      <th>wounded</th>\n",
       "      <th>property</th>\n",
       "      <th>source</th>\n",
       "    </tr>\n",
       "  </thead>\n",
       "  <tbody>\n",
       "    <tr>\n",
       "      <th>0</th>\n",
       "      <td>197000000001</td>\n",
       "      <td>1970</td>\n",
       "      <td>7</td>\n",
       "      <td>2</td>\n",
       "      <td>0</td>\n",
       "      <td>58</td>\n",
       "      <td>Dominican Republic</td>\n",
       "      <td>2</td>\n",
       "      <td>Central America &amp; Caribbean</td>\n",
       "      <td>NaN</td>\n",
       "      <td>...</td>\n",
       "      <td>Dominican Republic</td>\n",
       "      <td>MANO-D</td>\n",
       "      <td>13</td>\n",
       "      <td>Unknown</td>\n",
       "      <td>NaN</td>\n",
       "      <td>NaN</td>\n",
       "      <td>1</td>\n",
       "      <td>0</td>\n",
       "      <td>0</td>\n",
       "      <td>PGIS</td>\n",
       "    </tr>\n",
       "    <tr>\n",
       "      <th>1</th>\n",
       "      <td>197000000002</td>\n",
       "      <td>1970</td>\n",
       "      <td>0</td>\n",
       "      <td>0</td>\n",
       "      <td>0</td>\n",
       "      <td>130</td>\n",
       "      <td>Mexico</td>\n",
       "      <td>1</td>\n",
       "      <td>North America</td>\n",
       "      <td>Federal</td>\n",
       "      <td>...</td>\n",
       "      <td>Belgium</td>\n",
       "      <td>23rd of September Communist League</td>\n",
       "      <td>13</td>\n",
       "      <td>Unknown</td>\n",
       "      <td>NaN</td>\n",
       "      <td>NaN</td>\n",
       "      <td>0</td>\n",
       "      <td>0</td>\n",
       "      <td>0</td>\n",
       "      <td>PGIS</td>\n",
       "    </tr>\n",
       "    <tr>\n",
       "      <th>2</th>\n",
       "      <td>197001000001</td>\n",
       "      <td>1970</td>\n",
       "      <td>1</td>\n",
       "      <td>0</td>\n",
       "      <td>0</td>\n",
       "      <td>160</td>\n",
       "      <td>Philippines</td>\n",
       "      <td>5</td>\n",
       "      <td>Southeast Asia</td>\n",
       "      <td>Tarlac</td>\n",
       "      <td>...</td>\n",
       "      <td>United States</td>\n",
       "      <td>Unknown</td>\n",
       "      <td>13</td>\n",
       "      <td>Unknown</td>\n",
       "      <td>NaN</td>\n",
       "      <td>NaN</td>\n",
       "      <td>1</td>\n",
       "      <td>0</td>\n",
       "      <td>0</td>\n",
       "      <td>PGIS</td>\n",
       "    </tr>\n",
       "    <tr>\n",
       "      <th>3</th>\n",
       "      <td>197001000002</td>\n",
       "      <td>1970</td>\n",
       "      <td>1</td>\n",
       "      <td>0</td>\n",
       "      <td>0</td>\n",
       "      <td>78</td>\n",
       "      <td>Greece</td>\n",
       "      <td>8</td>\n",
       "      <td>Western Europe</td>\n",
       "      <td>Attica</td>\n",
       "      <td>...</td>\n",
       "      <td>United States</td>\n",
       "      <td>Unknown</td>\n",
       "      <td>6</td>\n",
       "      <td>Explosives</td>\n",
       "      <td>16</td>\n",
       "      <td>Unknown Explosive Type</td>\n",
       "      <td>NaN</td>\n",
       "      <td>NaN</td>\n",
       "      <td>1</td>\n",
       "      <td>PGIS</td>\n",
       "    </tr>\n",
       "    <tr>\n",
       "      <th>4</th>\n",
       "      <td>197001000003</td>\n",
       "      <td>1970</td>\n",
       "      <td>1</td>\n",
       "      <td>0</td>\n",
       "      <td>0</td>\n",
       "      <td>101</td>\n",
       "      <td>Japan</td>\n",
       "      <td>4</td>\n",
       "      <td>East Asia</td>\n",
       "      <td>Fukouka</td>\n",
       "      <td>...</td>\n",
       "      <td>United States</td>\n",
       "      <td>Unknown</td>\n",
       "      <td>8</td>\n",
       "      <td>Incendiary</td>\n",
       "      <td>NaN</td>\n",
       "      <td>NaN</td>\n",
       "      <td>NaN</td>\n",
       "      <td>NaN</td>\n",
       "      <td>1</td>\n",
       "      <td>PGIS</td>\n",
       "    </tr>\n",
       "  </tbody>\n",
       "</table>\n",
       "<p>5 rows × 33 columns</p>\n",
       "</div>"
      ],
      "text/plain": [
       "        eventid  year month day extended country        country_name region  \\\n",
       "0  197000000001  1970     7   2        0      58  Dominican Republic      2   \n",
       "1  197000000002  1970     0   0        0     130              Mexico      1   \n",
       "2  197001000001  1970     1   0        0     160         Philippines      5   \n",
       "3  197001000002  1970     1   0        0      78              Greece      8   \n",
       "4  197001000003  1970     1   0        0     101               Japan      4   \n",
       "\n",
       "                   region_name province  ...         nationality  \\\n",
       "0  Central America & Caribbean      NaN  ...  Dominican Republic   \n",
       "1                North America  Federal  ...             Belgium   \n",
       "2               Southeast Asia   Tarlac  ...       United States   \n",
       "3               Western Europe   Attica  ...       United States   \n",
       "4                    East Asia  Fukouka  ...       United States   \n",
       "\n",
       "                      terrorist_group weaptype  weapontype weaponsubtype  \\\n",
       "0                              MANO-D       13     Unknown           NaN   \n",
       "1  23rd of September Communist League       13     Unknown           NaN   \n",
       "2                             Unknown       13     Unknown           NaN   \n",
       "3                             Unknown        6  Explosives            16   \n",
       "4                             Unknown        8  Incendiary           NaN   \n",
       "\n",
       "          weapon_specific killed wounded property source  \n",
       "0                     NaN      1       0        0   PGIS  \n",
       "1                     NaN      0       0        0   PGIS  \n",
       "2                     NaN      1       0        0   PGIS  \n",
       "3  Unknown Explosive Type    NaN     NaN        1   PGIS  \n",
       "4                     NaN    NaN     NaN        1   PGIS  \n",
       "\n",
       "[5 rows x 33 columns]"
      ]
     },
     "execution_count": 84,
     "metadata": {},
     "output_type": "execute_result"
    },
    {
     "data": {
      "application/javascript": [
       "\n",
       "            setTimeout(function() {\n",
       "                var nbb_cell_id = 84;\n",
       "                var nbb_unformatted_code = \"###removing columns that are not helpful in analyzing the data\\nremove_cols = [\\n    \\\"specificity\\\",\\n    \\\"vicinity\\\",\\n    \\\"crit1\\\",\\n    \\\"crit2\\\",\\n    \\\"crit3\\\",\\n    \\\"doubtterr\\\",\\n    \\\"multiple\\\",\\n    \\\"guncertain1\\\",\\n    \\\"individual\\\",\\n    \\\"ishostkid\\\",\\n    \\\"INT_LOG\\\",\\n    \\\"INT_IDEO\\\",\\n    \\\"INT_MISC\\\",\\n    \\\"INT_ANY\\\",\\n]\\ndata2 = data1.drop(remove_cols, axis=1)\\ndata2.head()\";\n",
       "                var nbb_formatted_code = \"###removing columns that are not helpful in analyzing the data\\nremove_cols = [\\n    \\\"specificity\\\",\\n    \\\"vicinity\\\",\\n    \\\"crit1\\\",\\n    \\\"crit2\\\",\\n    \\\"crit3\\\",\\n    \\\"doubtterr\\\",\\n    \\\"multiple\\\",\\n    \\\"guncertain1\\\",\\n    \\\"individual\\\",\\n    \\\"ishostkid\\\",\\n    \\\"INT_LOG\\\",\\n    \\\"INT_IDEO\\\",\\n    \\\"INT_MISC\\\",\\n    \\\"INT_ANY\\\",\\n]\\ndata2 = data1.drop(remove_cols, axis=1)\\ndata2.head()\";\n",
       "                var nbb_cells = Jupyter.notebook.get_cells();\n",
       "                for (var i = 0; i < nbb_cells.length; ++i) {\n",
       "                    if (nbb_cells[i].input_prompt_number == nbb_cell_id) {\n",
       "                        if (nbb_cells[i].get_text() == nbb_unformatted_code) {\n",
       "                             nbb_cells[i].set_text(nbb_formatted_code);\n",
       "                        }\n",
       "                        break;\n",
       "                    }\n",
       "                }\n",
       "            }, 500);\n",
       "            "
      ],
      "text/plain": [
       "<IPython.core.display.Javascript object>"
      ]
     },
     "metadata": {},
     "output_type": "display_data"
    }
   ],
   "source": [
    "###removing columns that are not helpful in analyzing the data\n",
    "remove_cols = [\n",
    "    \"specificity\",\n",
    "    \"vicinity\",\n",
    "    \"crit1\",\n",
    "    \"crit2\",\n",
    "    \"crit3\",\n",
    "    \"doubtterr\",\n",
    "    \"multiple\",\n",
    "    \"guncertain1\",\n",
    "    \"individual\",\n",
    "    \"ishostkid\",\n",
    "    \"INT_LOG\",\n",
    "    \"INT_IDEO\",\n",
    "    \"INT_MISC\",\n",
    "    \"INT_ANY\",\n",
    "]\n",
    "data2 = data1.drop(remove_cols, axis=1)\n",
    "data2.head()"
   ]
  },
  {
   "cell_type": "code",
   "execution_count": 85,
   "metadata": {},
   "outputs": [
    {
     "data": {
      "text/plain": [
       "eventid              object\n",
       "year                 object\n",
       "month                object\n",
       "day                  object\n",
       "extended             object\n",
       "country              object\n",
       "country_name         object\n",
       "region               object\n",
       "region_name          object\n",
       "province             object\n",
       "city                 object\n",
       "latitude             object\n",
       "longitude            object\n",
       "successful_attack    object\n",
       "suicide_attack       object\n",
       "attacktype           object\n",
       "attack_method        object\n",
       "targtype             object\n",
       "target               object\n",
       "targsubtype          object\n",
       "target_general       object\n",
       "target_specific      object\n",
       "natlty1              object\n",
       "nationality          object\n",
       "terrorist_group      object\n",
       "weaptype             object\n",
       "weapontype           object\n",
       "weaponsubtype        object\n",
       "weapon_specific      object\n",
       "killed               object\n",
       "wounded              object\n",
       "property             object\n",
       "source               object\n",
       "dtype: object"
      ]
     },
     "execution_count": 85,
     "metadata": {},
     "output_type": "execute_result"
    },
    {
     "data": {
      "application/javascript": [
       "\n",
       "            setTimeout(function() {\n",
       "                var nbb_cell_id = 85;\n",
       "                var nbb_unformatted_code = \"data2.dtypes\";\n",
       "                var nbb_formatted_code = \"data2.dtypes\";\n",
       "                var nbb_cells = Jupyter.notebook.get_cells();\n",
       "                for (var i = 0; i < nbb_cells.length; ++i) {\n",
       "                    if (nbb_cells[i].input_prompt_number == nbb_cell_id) {\n",
       "                        if (nbb_cells[i].get_text() == nbb_unformatted_code) {\n",
       "                             nbb_cells[i].set_text(nbb_formatted_code);\n",
       "                        }\n",
       "                        break;\n",
       "                    }\n",
       "                }\n",
       "            }, 500);\n",
       "            "
      ],
      "text/plain": [
       "<IPython.core.display.Javascript object>"
      ]
     },
     "metadata": {},
     "output_type": "display_data"
    }
   ],
   "source": [
    "data2.dtypes"
   ]
  },
  {
   "cell_type": "code",
   "execution_count": 86,
   "metadata": {},
   "outputs": [
    {
     "data": {
      "application/javascript": [
       "\n",
       "        if (window._pyforest_update_imports_cell) { window._pyforest_update_imports_cell('import matplotlib.pyplot as plt\\nimport pandas as pd\\nimport seaborn as sns'); }\n",
       "    "
      ],
      "text/plain": [
       "<IPython.core.display.Javascript object>"
      ]
     },
     "metadata": {},
     "output_type": "display_data"
    },
    {
     "data": {
      "text/plain": [
       "eventid                int64\n",
       "year                   int64\n",
       "month                  int64\n",
       "day                    int64\n",
       "extended               int64\n",
       "country                int64\n",
       "country_name          object\n",
       "region                 int64\n",
       "region_name           object\n",
       "province              object\n",
       "city                  object\n",
       "latitude              object\n",
       "longitude             object\n",
       "successful_attack      int64\n",
       "suicide_attack         int64\n",
       "attacktype             int64\n",
       "attack_method         object\n",
       "targtype               int64\n",
       "target                object\n",
       "targsubtype          float64\n",
       "target_general        object\n",
       "target_specific       object\n",
       "natlty1               object\n",
       "nationality           object\n",
       "terrorist_group       object\n",
       "weaptype               int64\n",
       "weapontype            object\n",
       "weaponsubtype        float64\n",
       "weapon_specific       object\n",
       "killed               float64\n",
       "wounded              float64\n",
       "property               int64\n",
       "source                object\n",
       "dtype: object"
      ]
     },
     "execution_count": 86,
     "metadata": {},
     "output_type": "execute_result"
    },
    {
     "data": {
      "application/javascript": [
       "\n",
       "            setTimeout(function() {\n",
       "                var nbb_cell_id = 86;\n",
       "                var nbb_unformatted_code = \"data2[\\n    [\\n        \\\"eventid\\\",\\n        \\\"year\\\",\\n        \\\"month\\\",\\n        \\\"day\\\",\\n        \\\"extended\\\",\\n        \\\"country\\\",\\n        \\\"region\\\",\\n        \\\"successful_attack\\\",\\n        \\\"suicide_attack\\\",\\n        \\\"attacktype\\\",\\n        \\\"targtype\\\",\\n        \\\"targsubtype\\\",\\n        \\\"weaptype\\\",\\n        \\\"weaponsubtype\\\",\\n        \\\"killed\\\",\\n        \\\"wounded\\\",\\n        \\\"property\\\",\\n    ]\\n] = data2[\\n    [\\n        \\\"eventid\\\",\\n        \\\"year\\\",\\n        \\\"month\\\",\\n        \\\"day\\\",\\n        \\\"extended\\\",\\n        \\\"country\\\",\\n        \\\"region\\\",\\n        \\\"successful_attack\\\",\\n        \\\"suicide_attack\\\",\\n        \\\"attacktype\\\",\\n        \\\"targtype\\\",\\n        \\\"targsubtype\\\",\\n        \\\"weaptype\\\",\\n        \\\"weaponsubtype\\\",\\n        \\\"killed\\\",\\n        \\\"wounded\\\",\\n        \\\"property\\\",\\n    ]\\n].apply(\\n    pd.to_numeric\\n)\\n\\n# Other methids to convert\\n# = data2[['eventid', \\\"year\\\", \\\"month\\\"]].astype(int)\\n\\n# convert_dict = {'eventid': int, 'terrorist_group': str}\\n\\n# df = df.astype(convert_dict)\\n# print(df.dtypes)\\n\\n\\ndata2.dtypes\";\n",
       "                var nbb_formatted_code = \"data2[\\n    [\\n        \\\"eventid\\\",\\n        \\\"year\\\",\\n        \\\"month\\\",\\n        \\\"day\\\",\\n        \\\"extended\\\",\\n        \\\"country\\\",\\n        \\\"region\\\",\\n        \\\"successful_attack\\\",\\n        \\\"suicide_attack\\\",\\n        \\\"attacktype\\\",\\n        \\\"targtype\\\",\\n        \\\"targsubtype\\\",\\n        \\\"weaptype\\\",\\n        \\\"weaponsubtype\\\",\\n        \\\"killed\\\",\\n        \\\"wounded\\\",\\n        \\\"property\\\",\\n    ]\\n] = data2[\\n    [\\n        \\\"eventid\\\",\\n        \\\"year\\\",\\n        \\\"month\\\",\\n        \\\"day\\\",\\n        \\\"extended\\\",\\n        \\\"country\\\",\\n        \\\"region\\\",\\n        \\\"successful_attack\\\",\\n        \\\"suicide_attack\\\",\\n        \\\"attacktype\\\",\\n        \\\"targtype\\\",\\n        \\\"targsubtype\\\",\\n        \\\"weaptype\\\",\\n        \\\"weaponsubtype\\\",\\n        \\\"killed\\\",\\n        \\\"wounded\\\",\\n        \\\"property\\\",\\n    ]\\n].apply(\\n    pd.to_numeric\\n)\\n\\n# Other methids to convert\\n# = data2[['eventid', \\\"year\\\", \\\"month\\\"]].astype(int)\\n\\n# convert_dict = {'eventid': int, 'terrorist_group': str}\\n\\n# df = df.astype(convert_dict)\\n# print(df.dtypes)\\n\\n\\ndata2.dtypes\";\n",
       "                var nbb_cells = Jupyter.notebook.get_cells();\n",
       "                for (var i = 0; i < nbb_cells.length; ++i) {\n",
       "                    if (nbb_cells[i].input_prompt_number == nbb_cell_id) {\n",
       "                        if (nbb_cells[i].get_text() == nbb_unformatted_code) {\n",
       "                             nbb_cells[i].set_text(nbb_formatted_code);\n",
       "                        }\n",
       "                        break;\n",
       "                    }\n",
       "                }\n",
       "            }, 500);\n",
       "            "
      ],
      "text/plain": [
       "<IPython.core.display.Javascript object>"
      ]
     },
     "metadata": {},
     "output_type": "display_data"
    }
   ],
   "source": [
    "data2[\n",
    "    [\n",
    "        \"eventid\",\n",
    "        \"year\",\n",
    "        \"month\",\n",
    "        \"day\",\n",
    "        \"extended\",\n",
    "        \"country\",\n",
    "        \"region\",\n",
    "        \"successful_attack\",\n",
    "        \"suicide_attack\",\n",
    "        \"attacktype\",\n",
    "        \"targtype\",\n",
    "        \"targsubtype\",\n",
    "        \"weaptype\",\n",
    "        \"weaponsubtype\",\n",
    "        \"killed\",\n",
    "        \"wounded\",\n",
    "        \"property\",\n",
    "    ]\n",
    "] = data2[\n",
    "    [\n",
    "        \"eventid\",\n",
    "        \"year\",\n",
    "        \"month\",\n",
    "        \"day\",\n",
    "        \"extended\",\n",
    "        \"country\",\n",
    "        \"region\",\n",
    "        \"successful_attack\",\n",
    "        \"suicide_attack\",\n",
    "        \"attacktype\",\n",
    "        \"targtype\",\n",
    "        \"targsubtype\",\n",
    "        \"weaptype\",\n",
    "        \"weaponsubtype\",\n",
    "        \"killed\",\n",
    "        \"wounded\",\n",
    "        \"property\",\n",
    "    ]\n",
    "].apply(\n",
    "    pd.to_numeric\n",
    ")\n",
    "\n",
    "# Other methids to convert\n",
    "# = data2[['eventid', \"year\", \"month\"]].astype(int)\n",
    "\n",
    "# convert_dict = {'eventid': int, 'terrorist_group': str}\n",
    "\n",
    "# df = df.astype(convert_dict)\n",
    "# print(df.dtypes)\n",
    "\n",
    "\n",
    "data2.dtypes"
   ]
  },
  {
   "cell_type": "code",
   "execution_count": 87,
   "metadata": {},
   "outputs": [
    {
     "data": {
      "text/html": [
       "<div>\n",
       "<style scoped>\n",
       "    .dataframe tbody tr th:only-of-type {\n",
       "        vertical-align: middle;\n",
       "    }\n",
       "\n",
       "    .dataframe tbody tr th {\n",
       "        vertical-align: top;\n",
       "    }\n",
       "\n",
       "    .dataframe thead th {\n",
       "        text-align: right;\n",
       "    }\n",
       "</style>\n",
       "<table border=\"1\" class=\"dataframe\">\n",
       "  <thead>\n",
       "    <tr style=\"text-align: right;\">\n",
       "      <th></th>\n",
       "      <th>eventid</th>\n",
       "      <th>year</th>\n",
       "      <th>month</th>\n",
       "      <th>day</th>\n",
       "      <th>extended</th>\n",
       "      <th>country</th>\n",
       "      <th>country_name</th>\n",
       "      <th>region</th>\n",
       "      <th>region_name</th>\n",
       "      <th>province</th>\n",
       "      <th>...</th>\n",
       "      <th>nationality</th>\n",
       "      <th>terrorist_group</th>\n",
       "      <th>weaptype</th>\n",
       "      <th>weapontype</th>\n",
       "      <th>weaponsubtype</th>\n",
       "      <th>weapon_specific</th>\n",
       "      <th>killed</th>\n",
       "      <th>wounded</th>\n",
       "      <th>property</th>\n",
       "      <th>source</th>\n",
       "    </tr>\n",
       "    <tr>\n",
       "      <th>attack_method</th>\n",
       "      <th></th>\n",
       "      <th></th>\n",
       "      <th></th>\n",
       "      <th></th>\n",
       "      <th></th>\n",
       "      <th></th>\n",
       "      <th></th>\n",
       "      <th></th>\n",
       "      <th></th>\n",
       "      <th></th>\n",
       "      <th></th>\n",
       "      <th></th>\n",
       "      <th></th>\n",
       "      <th></th>\n",
       "      <th></th>\n",
       "      <th></th>\n",
       "      <th></th>\n",
       "      <th></th>\n",
       "      <th></th>\n",
       "      <th></th>\n",
       "      <th></th>\n",
       "    </tr>\n",
       "  </thead>\n",
       "  <tbody>\n",
       "    <tr>\n",
       "      <th>Armed Assault</th>\n",
       "      <td>197001010002</td>\n",
       "      <td>1970</td>\n",
       "      <td>1</td>\n",
       "      <td>1</td>\n",
       "      <td>0</td>\n",
       "      <td>217</td>\n",
       "      <td>United States</td>\n",
       "      <td>1</td>\n",
       "      <td>North America</td>\n",
       "      <td>Illinois</td>\n",
       "      <td>...</td>\n",
       "      <td>United States</td>\n",
       "      <td>Black Nationalists</td>\n",
       "      <td>5</td>\n",
       "      <td>Firearms</td>\n",
       "      <td>5.0</td>\n",
       "      <td>Unknown Gun Type</td>\n",
       "      <td>0.0</td>\n",
       "      <td>0.0</td>\n",
       "      <td>1</td>\n",
       "      <td>Hewitt Project</td>\n",
       "    </tr>\n",
       "    <tr>\n",
       "      <th>Assassination</th>\n",
       "      <td>197000000001</td>\n",
       "      <td>1970</td>\n",
       "      <td>7</td>\n",
       "      <td>2</td>\n",
       "      <td>0</td>\n",
       "      <td>58</td>\n",
       "      <td>Dominican Republic</td>\n",
       "      <td>2</td>\n",
       "      <td>Central America &amp; Caribbean</td>\n",
       "      <td>Tarlac</td>\n",
       "      <td>...</td>\n",
       "      <td>Dominican Republic</td>\n",
       "      <td>MANO-D</td>\n",
       "      <td>13</td>\n",
       "      <td>Unknown</td>\n",
       "      <td>2.0</td>\n",
       "      <td>Automatic or Semi-Automatic Rifle</td>\n",
       "      <td>1.0</td>\n",
       "      <td>0.0</td>\n",
       "      <td>0</td>\n",
       "      <td>PGIS</td>\n",
       "    </tr>\n",
       "    <tr>\n",
       "      <th>Bombing/Explosion</th>\n",
       "      <td>197001000002</td>\n",
       "      <td>1970</td>\n",
       "      <td>1</td>\n",
       "      <td>0</td>\n",
       "      <td>0</td>\n",
       "      <td>78</td>\n",
       "      <td>Greece</td>\n",
       "      <td>8</td>\n",
       "      <td>Western Europe</td>\n",
       "      <td>Attica</td>\n",
       "      <td>...</td>\n",
       "      <td>United States</td>\n",
       "      <td>Unknown</td>\n",
       "      <td>6</td>\n",
       "      <td>Explosives</td>\n",
       "      <td>16.0</td>\n",
       "      <td>Unknown Explosive Type</td>\n",
       "      <td>0.0</td>\n",
       "      <td>0.0</td>\n",
       "      <td>1</td>\n",
       "      <td>PGIS</td>\n",
       "    </tr>\n",
       "    <tr>\n",
       "      <th>Facility/Infrastructure Attack</th>\n",
       "      <td>197001000003</td>\n",
       "      <td>1970</td>\n",
       "      <td>1</td>\n",
       "      <td>0</td>\n",
       "      <td>0</td>\n",
       "      <td>101</td>\n",
       "      <td>Japan</td>\n",
       "      <td>4</td>\n",
       "      <td>East Asia</td>\n",
       "      <td>Fukouka</td>\n",
       "      <td>...</td>\n",
       "      <td>United States</td>\n",
       "      <td>Unknown</td>\n",
       "      <td>8</td>\n",
       "      <td>Incendiary</td>\n",
       "      <td>19.0</td>\n",
       "      <td>Molotov Cocktail/Petrol Bomb</td>\n",
       "      <td>0.0</td>\n",
       "      <td>0.0</td>\n",
       "      <td>1</td>\n",
       "      <td>PGIS</td>\n",
       "    </tr>\n",
       "    <tr>\n",
       "      <th>Hijacking</th>\n",
       "      <td>197001080001</td>\n",
       "      <td>1970</td>\n",
       "      <td>1</td>\n",
       "      <td>8</td>\n",
       "      <td>0</td>\n",
       "      <td>98</td>\n",
       "      <td>Italy</td>\n",
       "      <td>8</td>\n",
       "      <td>Western Europe</td>\n",
       "      <td>Lazio</td>\n",
       "      <td>...</td>\n",
       "      <td>United States</td>\n",
       "      <td>Unknown</td>\n",
       "      <td>5</td>\n",
       "      <td>Firearms</td>\n",
       "      <td>4.0</td>\n",
       "      <td>Rifle/Shotgun (non-automatic)</td>\n",
       "      <td>0.0</td>\n",
       "      <td>0.0</td>\n",
       "      <td>0</td>\n",
       "      <td>Hijacking DB</td>\n",
       "    </tr>\n",
       "    <tr>\n",
       "      <th>Hostage Taking (Barricade Incident)</th>\n",
       "      <td>197006090004</td>\n",
       "      <td>1970</td>\n",
       "      <td>6</td>\n",
       "      <td>9</td>\n",
       "      <td>1</td>\n",
       "      <td>102</td>\n",
       "      <td>Jordan</td>\n",
       "      <td>10</td>\n",
       "      <td>Middle East &amp; North Africa</td>\n",
       "      <td>Amman</td>\n",
       "      <td>...</td>\n",
       "      <td>Multinational</td>\n",
       "      <td>Popular Front for the Liberation of Palestine ...</td>\n",
       "      <td>5</td>\n",
       "      <td>Firearms</td>\n",
       "      <td>2.0</td>\n",
       "      <td>Automatic or Semi-Automatic Rifle</td>\n",
       "      <td>0.0</td>\n",
       "      <td>0.0</td>\n",
       "      <td>1</td>\n",
       "      <td>PGIS</td>\n",
       "    </tr>\n",
       "    <tr>\n",
       "      <th>Hostage Taking (Kidnapping)</th>\n",
       "      <td>197000000002</td>\n",
       "      <td>1970</td>\n",
       "      <td>0</td>\n",
       "      <td>0</td>\n",
       "      <td>0</td>\n",
       "      <td>130</td>\n",
       "      <td>Mexico</td>\n",
       "      <td>1</td>\n",
       "      <td>North America</td>\n",
       "      <td>Federal</td>\n",
       "      <td>...</td>\n",
       "      <td>Belgium</td>\n",
       "      <td>23rd of September Communist League</td>\n",
       "      <td>13</td>\n",
       "      <td>Unknown</td>\n",
       "      <td>2.0</td>\n",
       "      <td>Automatic or Semi-Automatic Rifle</td>\n",
       "      <td>0.0</td>\n",
       "      <td>0.0</td>\n",
       "      <td>0</td>\n",
       "      <td>PGIS</td>\n",
       "    </tr>\n",
       "    <tr>\n",
       "      <th>Unarmed Assault</th>\n",
       "      <td>197005220001</td>\n",
       "      <td>1970</td>\n",
       "      <td>5</td>\n",
       "      <td>22</td>\n",
       "      <td>0</td>\n",
       "      <td>217</td>\n",
       "      <td>United States</td>\n",
       "      <td>1</td>\n",
       "      <td>North America</td>\n",
       "      <td>New York</td>\n",
       "      <td>...</td>\n",
       "      <td>West Bank and Gaza Strip</td>\n",
       "      <td>Jewish Defense League (JDL)</td>\n",
       "      <td>9</td>\n",
       "      <td>Melee</td>\n",
       "      <td>21.0</td>\n",
       "      <td>Blunt Object</td>\n",
       "      <td>0.0</td>\n",
       "      <td>3.0</td>\n",
       "      <td>1</td>\n",
       "      <td>HSI</td>\n",
       "    </tr>\n",
       "    <tr>\n",
       "      <th>Unknown</th>\n",
       "      <td>197001110001</td>\n",
       "      <td>1970</td>\n",
       "      <td>1</td>\n",
       "      <td>11</td>\n",
       "      <td>0</td>\n",
       "      <td>65</td>\n",
       "      <td>Ethiopia</td>\n",
       "      <td>11</td>\n",
       "      <td>Sub-Saharan Africa</td>\n",
       "      <td>Unknown</td>\n",
       "      <td>...</td>\n",
       "      <td>United States</td>\n",
       "      <td>Eritrean Liberation Front</td>\n",
       "      <td>13</td>\n",
       "      <td>Unknown</td>\n",
       "      <td>5.0</td>\n",
       "      <td>Unknown Gun Type</td>\n",
       "      <td>1.0</td>\n",
       "      <td>0.0</td>\n",
       "      <td>0</td>\n",
       "      <td>PGIS</td>\n",
       "    </tr>\n",
       "  </tbody>\n",
       "</table>\n",
       "<p>9 rows × 32 columns</p>\n",
       "</div>"
      ],
      "text/plain": [
       "                                          eventid  year  month  day  extended  \\\n",
       "attack_method                                                                   \n",
       "Armed Assault                        197001010002  1970      1    1         0   \n",
       "Assassination                        197000000001  1970      7    2         0   \n",
       "Bombing/Explosion                    197001000002  1970      1    0         0   \n",
       "Facility/Infrastructure Attack       197001000003  1970      1    0         0   \n",
       "Hijacking                            197001080001  1970      1    8         0   \n",
       "Hostage Taking (Barricade Incident)  197006090004  1970      6    9         1   \n",
       "Hostage Taking (Kidnapping)          197000000002  1970      0    0         0   \n",
       "Unarmed Assault                      197005220001  1970      5   22         0   \n",
       "Unknown                              197001110001  1970      1   11         0   \n",
       "\n",
       "                                     country        country_name  region  \\\n",
       "attack_method                                                              \n",
       "Armed Assault                            217       United States       1   \n",
       "Assassination                             58  Dominican Republic       2   \n",
       "Bombing/Explosion                         78              Greece       8   \n",
       "Facility/Infrastructure Attack           101               Japan       4   \n",
       "Hijacking                                 98               Italy       8   \n",
       "Hostage Taking (Barricade Incident)      102              Jordan      10   \n",
       "Hostage Taking (Kidnapping)              130              Mexico       1   \n",
       "Unarmed Assault                          217       United States       1   \n",
       "Unknown                                   65            Ethiopia      11   \n",
       "\n",
       "                                                     region_name  province  \\\n",
       "attack_method                                                                \n",
       "Armed Assault                                      North America  Illinois   \n",
       "Assassination                        Central America & Caribbean    Tarlac   \n",
       "Bombing/Explosion                                 Western Europe    Attica   \n",
       "Facility/Infrastructure Attack                         East Asia   Fukouka   \n",
       "Hijacking                                         Western Europe     Lazio   \n",
       "Hostage Taking (Barricade Incident)   Middle East & North Africa     Amman   \n",
       "Hostage Taking (Kidnapping)                        North America   Federal   \n",
       "Unarmed Assault                                    North America  New York   \n",
       "Unknown                                       Sub-Saharan Africa   Unknown   \n",
       "\n",
       "                                     ...               nationality  \\\n",
       "attack_method                        ...                             \n",
       "Armed Assault                        ...             United States   \n",
       "Assassination                        ...        Dominican Republic   \n",
       "Bombing/Explosion                    ...             United States   \n",
       "Facility/Infrastructure Attack       ...             United States   \n",
       "Hijacking                            ...             United States   \n",
       "Hostage Taking (Barricade Incident)  ...             Multinational   \n",
       "Hostage Taking (Kidnapping)          ...                   Belgium   \n",
       "Unarmed Assault                      ...  West Bank and Gaza Strip   \n",
       "Unknown                              ...             United States   \n",
       "\n",
       "                                                                       terrorist_group  \\\n",
       "attack_method                                                                            \n",
       "Armed Assault                                                       Black Nationalists   \n",
       "Assassination                                                                   MANO-D   \n",
       "Bombing/Explosion                                                              Unknown   \n",
       "Facility/Infrastructure Attack                                                 Unknown   \n",
       "Hijacking                                                                      Unknown   \n",
       "Hostage Taking (Barricade Incident)  Popular Front for the Liberation of Palestine ...   \n",
       "Hostage Taking (Kidnapping)                         23rd of September Communist League   \n",
       "Unarmed Assault                                            Jewish Defense League (JDL)   \n",
       "Unknown                                                      Eritrean Liberation Front   \n",
       "\n",
       "                                    weaptype  weapontype  weaponsubtype  \\\n",
       "attack_method                                                             \n",
       "Armed Assault                              5    Firearms            5.0   \n",
       "Assassination                             13     Unknown            2.0   \n",
       "Bombing/Explosion                          6  Explosives           16.0   \n",
       "Facility/Infrastructure Attack             8  Incendiary           19.0   \n",
       "Hijacking                                  5    Firearms            4.0   \n",
       "Hostage Taking (Barricade Incident)        5    Firearms            2.0   \n",
       "Hostage Taking (Kidnapping)               13     Unknown            2.0   \n",
       "Unarmed Assault                            9       Melee           21.0   \n",
       "Unknown                                   13     Unknown            5.0   \n",
       "\n",
       "                                                       weapon_specific  \\\n",
       "attack_method                                                            \n",
       "Armed Assault                                         Unknown Gun Type   \n",
       "Assassination                        Automatic or Semi-Automatic Rifle   \n",
       "Bombing/Explosion                               Unknown Explosive Type   \n",
       "Facility/Infrastructure Attack            Molotov Cocktail/Petrol Bomb   \n",
       "Hijacking                                Rifle/Shotgun (non-automatic)   \n",
       "Hostage Taking (Barricade Incident)  Automatic or Semi-Automatic Rifle   \n",
       "Hostage Taking (Kidnapping)          Automatic or Semi-Automatic Rifle   \n",
       "Unarmed Assault                                           Blunt Object   \n",
       "Unknown                                               Unknown Gun Type   \n",
       "\n",
       "                                     killed wounded  property          source  \n",
       "attack_method                                                                  \n",
       "Armed Assault                           0.0     0.0         1  Hewitt Project  \n",
       "Assassination                           1.0     0.0         0            PGIS  \n",
       "Bombing/Explosion                       0.0     0.0         1            PGIS  \n",
       "Facility/Infrastructure Attack          0.0     0.0         1            PGIS  \n",
       "Hijacking                               0.0     0.0         0    Hijacking DB  \n",
       "Hostage Taking (Barricade Incident)     0.0     0.0         1            PGIS  \n",
       "Hostage Taking (Kidnapping)             0.0     0.0         0            PGIS  \n",
       "Unarmed Assault                         0.0     3.0         1             HSI  \n",
       "Unknown                                 1.0     0.0         0            PGIS  \n",
       "\n",
       "[9 rows x 32 columns]"
      ]
     },
     "execution_count": 87,
     "metadata": {},
     "output_type": "execute_result"
    },
    {
     "data": {
      "application/javascript": [
       "\n",
       "            setTimeout(function() {\n",
       "                var nbb_cell_id = 87;\n",
       "                var nbb_unformatted_code = \"###We can group tha data based of different meaures. In the example below, I have used \\\"attack_method\\\" to group the data and print the first observation\\ndata2.groupby(\\\"attack_method\\\").first()\";\n",
       "                var nbb_formatted_code = \"###We can group tha data based of different meaures. In the example below, I have used \\\"attack_method\\\" to group the data and print the first observation\\ndata2.groupby(\\\"attack_method\\\").first()\";\n",
       "                var nbb_cells = Jupyter.notebook.get_cells();\n",
       "                for (var i = 0; i < nbb_cells.length; ++i) {\n",
       "                    if (nbb_cells[i].input_prompt_number == nbb_cell_id) {\n",
       "                        if (nbb_cells[i].get_text() == nbb_unformatted_code) {\n",
       "                             nbb_cells[i].set_text(nbb_formatted_code);\n",
       "                        }\n",
       "                        break;\n",
       "                    }\n",
       "                }\n",
       "            }, 500);\n",
       "            "
      ],
      "text/plain": [
       "<IPython.core.display.Javascript object>"
      ]
     },
     "metadata": {},
     "output_type": "display_data"
    }
   ],
   "source": [
    "###We can group tha data based of different meaures. In the example below, I have used \"attack_method\" to group the data and print the first observation\n",
    "data2.groupby(\"attack_method\").first()"
   ]
  },
  {
   "cell_type": "code",
   "execution_count": 90,
   "metadata": {},
   "outputs": [
    {
     "data": {
      "application/javascript": [
       "\n",
       "        if (window._pyforest_update_imports_cell) { window._pyforest_update_imports_cell('import matplotlib.pyplot as plt\\nimport pandas as pd\\nimport seaborn as sns'); }\n",
       "    "
      ],
      "text/plain": [
       "<IPython.core.display.Javascript object>"
      ]
     },
     "metadata": {},
     "output_type": "display_data"
    },
    {
     "data": {
      "text/plain": [
       "<Figure size 864x648 with 0 Axes>"
      ]
     },
     "execution_count": 90,
     "metadata": {},
     "output_type": "execute_result"
    },
    {
     "data": {
      "application/javascript": [
       "\n",
       "        if (window._pyforest_update_imports_cell) { window._pyforest_update_imports_cell('import matplotlib.pyplot as plt\\nimport pandas as pd\\nimport seaborn as sns'); }\n",
       "    "
      ],
      "text/plain": [
       "<IPython.core.display.Javascript object>"
      ]
     },
     "metadata": {},
     "output_type": "display_data"
    },
    {
     "data": {
      "text/plain": [
       "<AxesSubplot:>"
      ]
     },
     "execution_count": 90,
     "metadata": {},
     "output_type": "execute_result"
    },
    {
     "data": {
      "application/javascript": [
       "\n",
       "        if (window._pyforest_update_imports_cell) { window._pyforest_update_imports_cell('import matplotlib.pyplot as plt\\nimport pandas as pd\\nimport seaborn as sns'); }\n",
       "    "
      ],
      "text/plain": [
       "<IPython.core.display.Javascript object>"
      ]
     },
     "metadata": {},
     "output_type": "display_data"
    },
    {
     "data": {
      "image/png": "[encoded data removed]",
      "text/plain": [
       "<Figure size 864x648 with 2 Axes>"
      ]
     },
     "metadata": {
      "needs_background": "light"
     },
     "output_type": "display_data"
    },
    {
     "data": {
      "application/javascript": [
       "\n",
       "            setTimeout(function() {\n",
       "                var nbb_cell_id = 90;\n",
       "                var nbb_unformatted_code = \"plot_corr = data2.drop(\\\"eventid\\\", axis=1)\\nplt.figure(figsize=(12, 9))\\nsns.heatmap(plot_corr.corr(), annot=True)\\nplt.show()\";\n",
       "                var nbb_formatted_code = \"plot_corr = data2.drop(\\\"eventid\\\", axis=1)\\nplt.figure(figsize=(12, 9))\\nsns.heatmap(plot_corr.corr(), annot=True)\\nplt.show()\";\n",
       "                var nbb_cells = Jupyter.notebook.get_cells();\n",
       "                for (var i = 0; i < nbb_cells.length; ++i) {\n",
       "                    if (nbb_cells[i].input_prompt_number == nbb_cell_id) {\n",
       "                        if (nbb_cells[i].get_text() == nbb_unformatted_code) {\n",
       "                             nbb_cells[i].set_text(nbb_formatted_code);\n",
       "                        }\n",
       "                        break;\n",
       "                    }\n",
       "                }\n",
       "            }, 500);\n",
       "            "
      ],
      "text/plain": [
       "<IPython.core.display.Javascript object>"
      ]
     },
     "metadata": {},
     "output_type": "display_data"
    }
   ],
   "source": [
    "###PLot the correlation between numerical variables\n",
    "plot_corr = data2.drop(\"eventid\", axis=1)\n",
    "plt.figure(figsize=(12, 9))\n",
    "sns.heatmap(plot_corr.corr(), annot=True)\n",
    "plt.show()"
   ]
  },
  {
   "cell_type": "code",
   "execution_count": 95,
   "metadata": {},
   "outputs": [
    {
     "data": {
      "text/html": [
       "<div>\n",
       "<style scoped>\n",
       "    .dataframe tbody tr th:only-of-type {\n",
       "        vertical-align: middle;\n",
       "    }\n",
       "\n",
       "    .dataframe tbody tr th {\n",
       "        vertical-align: top;\n",
       "    }\n",
       "\n",
       "    .dataframe thead th {\n",
       "        text-align: right;\n",
       "    }\n",
       "</style>\n",
       "<table border=\"1\" class=\"dataframe\">\n",
       "  <thead>\n",
       "    <tr style=\"text-align: right;\">\n",
       "      <th></th>\n",
       "      <th>weaptype</th>\n",
       "      <th>weapontype</th>\n",
       "      <th>weaponsubtype</th>\n",
       "      <th>weapon_specific</th>\n",
       "      <th>attacktype</th>\n",
       "      <th>attack_method</th>\n",
       "    </tr>\n",
       "  </thead>\n",
       "  <tbody>\n",
       "    <tr>\n",
       "      <th>0</th>\n",
       "      <td>13</td>\n",
       "      <td>Unknown</td>\n",
       "      <td>NaN</td>\n",
       "      <td>NaN</td>\n",
       "      <td>1</td>\n",
       "      <td>Assassination</td>\n",
       "    </tr>\n",
       "    <tr>\n",
       "      <th>1</th>\n",
       "      <td>13</td>\n",
       "      <td>Unknown</td>\n",
       "      <td>NaN</td>\n",
       "      <td>NaN</td>\n",
       "      <td>6</td>\n",
       "      <td>Hostage Taking (Kidnapping)</td>\n",
       "    </tr>\n",
       "    <tr>\n",
       "      <th>2</th>\n",
       "      <td>13</td>\n",
       "      <td>Unknown</td>\n",
       "      <td>NaN</td>\n",
       "      <td>NaN</td>\n",
       "      <td>1</td>\n",
       "      <td>Assassination</td>\n",
       "    </tr>\n",
       "    <tr>\n",
       "      <th>3</th>\n",
       "      <td>6</td>\n",
       "      <td>Explosives</td>\n",
       "      <td>16.0</td>\n",
       "      <td>Unknown Explosive Type</td>\n",
       "      <td>3</td>\n",
       "      <td>Bombing/Explosion</td>\n",
       "    </tr>\n",
       "    <tr>\n",
       "      <th>4</th>\n",
       "      <td>8</td>\n",
       "      <td>Incendiary</td>\n",
       "      <td>NaN</td>\n",
       "      <td>NaN</td>\n",
       "      <td>7</td>\n",
       "      <td>Facility/Infrastructure Attack</td>\n",
       "    </tr>\n",
       "    <tr>\n",
       "      <th>5</th>\n",
       "      <td>5</td>\n",
       "      <td>Firearms</td>\n",
       "      <td>5.0</td>\n",
       "      <td>Unknown Gun Type</td>\n",
       "      <td>2</td>\n",
       "      <td>Armed Assault</td>\n",
       "    </tr>\n",
       "    <tr>\n",
       "      <th>6</th>\n",
       "      <td>5</td>\n",
       "      <td>Firearms</td>\n",
       "      <td>2.0</td>\n",
       "      <td>Automatic or Semi-Automatic Rifle</td>\n",
       "      <td>1</td>\n",
       "      <td>Assassination</td>\n",
       "    </tr>\n",
       "    <tr>\n",
       "      <th>7</th>\n",
       "      <td>6</td>\n",
       "      <td>Explosives</td>\n",
       "      <td>16.0</td>\n",
       "      <td>Unknown Explosive Type</td>\n",
       "      <td>3</td>\n",
       "      <td>Bombing/Explosion</td>\n",
       "    </tr>\n",
       "    <tr>\n",
       "      <th>8</th>\n",
       "      <td>8</td>\n",
       "      <td>Incendiary</td>\n",
       "      <td>19.0</td>\n",
       "      <td>Molotov Cocktail/Petrol Bomb</td>\n",
       "      <td>7</td>\n",
       "      <td>Facility/Infrastructure Attack</td>\n",
       "    </tr>\n",
       "    <tr>\n",
       "      <th>9</th>\n",
       "      <td>8</td>\n",
       "      <td>Incendiary</td>\n",
       "      <td>20.0</td>\n",
       "      <td>Gasoline or Alcohol</td>\n",
       "      <td>7</td>\n",
       "      <td>Facility/Infrastructure Attack</td>\n",
       "    </tr>\n",
       "    <tr>\n",
       "      <th>10</th>\n",
       "      <td>6</td>\n",
       "      <td>Explosives</td>\n",
       "      <td>16.0</td>\n",
       "      <td>Unknown Explosive Type</td>\n",
       "      <td>3</td>\n",
       "      <td>Bombing/Explosion</td>\n",
       "    </tr>\n",
       "    <tr>\n",
       "      <th>11</th>\n",
       "      <td>8</td>\n",
       "      <td>Incendiary</td>\n",
       "      <td>19.0</td>\n",
       "      <td>Molotov Cocktail/Petrol Bomb</td>\n",
       "      <td>7</td>\n",
       "      <td>Facility/Infrastructure Attack</td>\n",
       "    </tr>\n",
       "    <tr>\n",
       "      <th>12</th>\n",
       "      <td>5</td>\n",
       "      <td>Firearms</td>\n",
       "      <td>4.0</td>\n",
       "      <td>Rifle/Shotgun (non-automatic)</td>\n",
       "      <td>4</td>\n",
       "      <td>Hijacking</td>\n",
       "    </tr>\n",
       "    <tr>\n",
       "      <th>13</th>\n",
       "      <td>8</td>\n",
       "      <td>Incendiary</td>\n",
       "      <td>19.0</td>\n",
       "      <td>Molotov Cocktail/Petrol Bomb</td>\n",
       "      <td>7</td>\n",
       "      <td>Facility/Infrastructure Attack</td>\n",
       "    </tr>\n",
       "    <tr>\n",
       "      <th>14</th>\n",
       "      <td>8</td>\n",
       "      <td>Incendiary</td>\n",
       "      <td>18.0</td>\n",
       "      <td>Arson/Fire</td>\n",
       "      <td>7</td>\n",
       "      <td>Facility/Infrastructure Attack</td>\n",
       "    </tr>\n",
       "    <tr>\n",
       "      <th>15</th>\n",
       "      <td>6</td>\n",
       "      <td>Explosives</td>\n",
       "      <td>16.0</td>\n",
       "      <td>Unknown Explosive Type</td>\n",
       "      <td>3</td>\n",
       "      <td>Bombing/Explosion</td>\n",
       "    </tr>\n",
       "    <tr>\n",
       "      <th>16</th>\n",
       "      <td>13</td>\n",
       "      <td>Unknown</td>\n",
       "      <td>NaN</td>\n",
       "      <td>NaN</td>\n",
       "      <td>9</td>\n",
       "      <td>Unknown</td>\n",
       "    </tr>\n",
       "    <tr>\n",
       "      <th>17</th>\n",
       "      <td>6</td>\n",
       "      <td>Explosives</td>\n",
       "      <td>31.0</td>\n",
       "      <td>Pipe Bomb</td>\n",
       "      <td>3</td>\n",
       "      <td>Bombing/Explosion</td>\n",
       "    </tr>\n",
       "    <tr>\n",
       "      <th>18</th>\n",
       "      <td>6</td>\n",
       "      <td>Explosives</td>\n",
       "      <td>16.0</td>\n",
       "      <td>Unknown Explosive Type</td>\n",
       "      <td>3</td>\n",
       "      <td>Bombing/Explosion</td>\n",
       "    </tr>\n",
       "    <tr>\n",
       "      <th>19</th>\n",
       "      <td>8</td>\n",
       "      <td>Incendiary</td>\n",
       "      <td>19.0</td>\n",
       "      <td>Molotov Cocktail/Petrol Bomb</td>\n",
       "      <td>7</td>\n",
       "      <td>Facility/Infrastructure Attack</td>\n",
       "    </tr>\n",
       "  </tbody>\n",
       "</table>\n",
       "</div>"
      ],
      "text/plain": [
       "    weaptype  weapontype  weaponsubtype                    weapon_specific  \\\n",
       "0         13     Unknown            NaN                                NaN   \n",
       "1         13     Unknown            NaN                                NaN   \n",
       "2         13     Unknown            NaN                                NaN   \n",
       "3          6  Explosives           16.0             Unknown Explosive Type   \n",
       "4          8  Incendiary            NaN                                NaN   \n",
       "5          5    Firearms            5.0                   Unknown Gun Type   \n",
       "6          5    Firearms            2.0  Automatic or Semi-Automatic Rifle   \n",
       "7          6  Explosives           16.0             Unknown Explosive Type   \n",
       "8          8  Incendiary           19.0       Molotov Cocktail/Petrol Bomb   \n",
       "9          8  Incendiary           20.0                Gasoline or Alcohol   \n",
       "10         6  Explosives           16.0             Unknown Explosive Type   \n",
       "11         8  Incendiary           19.0       Molotov Cocktail/Petrol Bomb   \n",
       "12         5    Firearms            4.0      Rifle/Shotgun (non-automatic)   \n",
       "13         8  Incendiary           19.0       Molotov Cocktail/Petrol Bomb   \n",
       "14         8  Incendiary           18.0                         Arson/Fire   \n",
       "15         6  Explosives           16.0             Unknown Explosive Type   \n",
       "16        13     Unknown            NaN                                NaN   \n",
       "17         6  Explosives           31.0                          Pipe Bomb   \n",
       "18         6  Explosives           16.0             Unknown Explosive Type   \n",
       "19         8  Incendiary           19.0       Molotov Cocktail/Petrol Bomb   \n",
       "\n",
       "    attacktype                   attack_method  \n",
       "0            1                   Assassination  \n",
       "1            6     Hostage Taking (Kidnapping)  \n",
       "2            1                   Assassination  \n",
       "3            3               Bombing/Explosion  \n",
       "4            7  Facility/Infrastructure Attack  \n",
       "5            2                   Armed Assault  \n",
       "6            1                   Assassination  \n",
       "7            3               Bombing/Explosion  \n",
       "8            7  Facility/Infrastructure Attack  \n",
       "9            7  Facility/Infrastructure Attack  \n",
       "10           3               Bombing/Explosion  \n",
       "11           7  Facility/Infrastructure Attack  \n",
       "12           4                       Hijacking  \n",
       "13           7  Facility/Infrastructure Attack  \n",
       "14           7  Facility/Infrastructure Attack  \n",
       "15           3               Bombing/Explosion  \n",
       "16           9                         Unknown  \n",
       "17           3               Bombing/Explosion  \n",
       "18           3               Bombing/Explosion  \n",
       "19           7  Facility/Infrastructure Attack  "
      ]
     },
     "execution_count": 95,
     "metadata": {},
     "output_type": "execute_result"
    },
    {
     "data": {
      "application/javascript": [
       "\n",
       "            setTimeout(function() {\n",
       "                var nbb_cell_id = 95;\n",
       "                var nbb_unformatted_code = \"### Weaptype is strongly correlated with weaponsubtype whereas weaptype also shows moderate correlation with attacktype.\\n\\ndata2[\\n    [\\n        \\\"weaptype\\\",\\n        \\\"weapontype\\\",\\n        \\\"weaponsubtype\\\",\\n        \\\"weapon_specific\\\",\\n        \\\"attacktype\\\",\\n        \\\"attack_method\\\",\\n    ]\\n].head(20)\\n\\n###Once we look at the informative columns, it is easier to understand why the correlations are high. For ex. when the weaptype is 6, it cooresponds to explosives where the attack method is bombings/explosion.\";\n",
       "                var nbb_formatted_code = \"### Weaptype is strongly correlated with weaponsubtype whereas weaptype also shows moderate correlation with attacktype.\\n\\ndata2[\\n    [\\n        \\\"weaptype\\\",\\n        \\\"weapontype\\\",\\n        \\\"weaponsubtype\\\",\\n        \\\"weapon_specific\\\",\\n        \\\"attacktype\\\",\\n        \\\"attack_method\\\",\\n    ]\\n].head(20)\\n\\n###Once we look at the informative columns, it is easier to understand why the correlations are high. For ex. when the weaptype is 6, it cooresponds to explosives where the attack method is bombings/explosion.\";\n",
       "                var nbb_cells = Jupyter.notebook.get_cells();\n",
       "                for (var i = 0; i < nbb_cells.length; ++i) {\n",
       "                    if (nbb_cells[i].input_prompt_number == nbb_cell_id) {\n",
       "                        if (nbb_cells[i].get_text() == nbb_unformatted_code) {\n",
       "                             nbb_cells[i].set_text(nbb_formatted_code);\n",
       "                        }\n",
       "                        break;\n",
       "                    }\n",
       "                }\n",
       "            }, 500);\n",
       "            "
      ],
      "text/plain": [
       "<IPython.core.display.Javascript object>"
      ]
     },
     "metadata": {},
     "output_type": "display_data"
    }
   ],
   "source": [
    "### Weaptype is strongly correlated with weaponsubtype whereas weaptype also shows moderate correlation with attacktype.\n",
    "\n",
    "data2[\n",
    "    [\n",
    "        \"weaptype\",\n",
    "        \"weapontype\",\n",
    "        \"weaponsubtype\",\n",
    "        \"weapon_specific\",\n",
    "        \"attacktype\",\n",
    "        \"attack_method\",\n",
    "    ]\n",
    "].head(20)\n",
    "\n",
    "###Once we look at the informative columns, it is easier to understand why the correlations are high. For ex. when the weaptype is 6, it cooresponds to explosives where the attack method is bombings/explosion."
   ]
  },
  {
   "cell_type": "markdown",
   "metadata": {},
   "source": [
    "Some of the important questions that can be explored using this dataset might be as follows:\n",
    "\n",
    "1. How many attacks have happened over the years reported in this dataset? Which months have been the deadliest ones?\n",
    "2. Which countries has experienced the most terrorist attacks?\n",
    "3. Which cities were the unsafest ones?\n",
    "4. Which countries and cities have the highest number of casulaties?\n",
    "5. Which weapons have been mostly used to carry out attacks?\n",
    "6. Which nationalities have been mostly attacked?\n",
    "7. Which terrorist groups were involved in attacks?\n",
    "8. How many people have been killed and how many were wounded?"
   ]
  },
  {
   "cell_type": "code",
   "execution_count": 108,
   "metadata": {},
   "outputs": [
    {
     "data": {
      "text/plain": [
       "1970      651\n",
       "1971      471\n",
       "1972      568\n",
       "1973      473\n",
       "1974      581\n",
       "1975      740\n",
       "1976      923\n",
       "1977     1319\n",
       "1978     1526\n",
       "1979     2662\n",
       "1980     2662\n",
       "1981     2586\n",
       "1982     2544\n",
       "1983     2870\n",
       "1984     3495\n",
       "1985     2915\n",
       "1986     2860\n",
       "1987     3183\n",
       "1988     3721\n",
       "1989     4324\n",
       "1990     3887\n",
       "1991     4683\n",
       "1992     5071\n",
       "1994     3456\n",
       "1995     3081\n",
       "1996     3058\n",
       "1997     3197\n",
       "1998      934\n",
       "1999     1395\n",
       "2000     1814\n",
       "2001     1906\n",
       "2002     1333\n",
       "2003     1278\n",
       "2004     1166\n",
       "2005     2017\n",
       "2006     2758\n",
       "2007     3242\n",
       "2008     4805\n",
       "2009     4721\n",
       "2010     4826\n",
       "2011     5076\n",
       "2012     8522\n",
       "2013    12036\n",
       "2014    16903\n",
       "2015    14965\n",
       "2016    13587\n",
       "2017    10900\n",
       "Name: year, dtype: int64"
      ]
     },
     "execution_count": 108,
     "metadata": {},
     "output_type": "execute_result"
    },
    {
     "data": {
      "application/javascript": [
       "\n",
       "            setTimeout(function() {\n",
       "                var nbb_cell_id = 108;\n",
       "                var nbb_unformatted_code = \"data2[\\\"year\\\"].value_counts().sort_index()\";\n",
       "                var nbb_formatted_code = \"data2[\\\"year\\\"].value_counts().sort_index()\";\n",
       "                var nbb_cells = Jupyter.notebook.get_cells();\n",
       "                for (var i = 0; i < nbb_cells.length; ++i) {\n",
       "                    if (nbb_cells[i].input_prompt_number == nbb_cell_id) {\n",
       "                        if (nbb_cells[i].get_text() == nbb_unformatted_code) {\n",
       "                             nbb_cells[i].set_text(nbb_formatted_code);\n",
       "                        }\n",
       "                        break;\n",
       "                    }\n",
       "                }\n",
       "            }, 500);\n",
       "            "
      ],
      "text/plain": [
       "<IPython.core.display.Javascript object>"
      ]
     },
     "metadata": {},
     "output_type": "display_data"
    }
   ],
   "source": [
    "###Number of attacks every year sorted by the year\n",
    "data2[\"year\"].value_counts().sort_index()"
   ]
  },
  {
   "cell_type": "code",
   "execution_count": 131,
   "metadata": {},
   "outputs": [
    {
     "data": {
      "application/javascript": [
       "\n",
       "        if (window._pyforest_update_imports_cell) { window._pyforest_update_imports_cell('import matplotlib.pyplot as plt\\nimport pandas as pd\\nimport seaborn as sns'); }\n",
       "    "
      ],
      "text/plain": [
       "<IPython.core.display.Javascript object>"
      ]
     },
     "metadata": {},
     "output_type": "display_data"
    },
    {
     "data": {
      "application/javascript": [
       "\n",
       "        if (window._pyforest_update_imports_cell) { window._pyforest_update_imports_cell('import matplotlib.pyplot as plt\\nimport pandas as pd\\nimport seaborn as sns'); }\n",
       "    "
      ],
      "text/plain": [
       "<IPython.core.display.Javascript object>"
      ]
     },
     "metadata": {},
     "output_type": "display_data"
    },
    {
     "data": {
      "application/javascript": [
       "\n",
       "        if (window._pyforest_update_imports_cell) { window._pyforest_update_imports_cell('import matplotlib.pyplot as plt\\nimport pandas as pd\\nimport seaborn as sns'); }\n",
       "    "
      ],
      "text/plain": [
       "<IPython.core.display.Javascript object>"
      ]
     },
     "metadata": {},
     "output_type": "display_data"
    },
    {
     "data": {
      "application/javascript": [
       "\n",
       "        if (window._pyforest_update_imports_cell) { window._pyforest_update_imports_cell('import matplotlib.pyplot as plt\\nimport pandas as pd\\nimport seaborn as sns'); }\n",
       "    "
      ],
      "text/plain": [
       "<IPython.core.display.Javascript object>"
      ]
     },
     "metadata": {},
     "output_type": "display_data"
    },
    {
     "data": {
      "application/javascript": [
       "\n",
       "        if (window._pyforest_update_imports_cell) { window._pyforest_update_imports_cell('import matplotlib.pyplot as plt\\nimport pandas as pd\\nimport seaborn as sns'); }\n",
       "    "
      ],
      "text/plain": [
       "<IPython.core.display.Javascript object>"
      ]
     },
     "metadata": {},
     "output_type": "display_data"
    },
    {
     "data": {
      "application/javascript": [
       "\n",
       "        if (window._pyforest_update_imports_cell) { window._pyforest_update_imports_cell('import matplotlib.pyplot as plt\\nimport pandas as pd\\nimport seaborn as sns'); }\n",
       "    "
      ],
      "text/plain": [
       "<IPython.core.display.Javascript object>"
      ]
     },
     "metadata": {},
     "output_type": "display_data"
    },
    {
     "data": {
      "image/png": "[encoded data removed]",
      "text/plain": [
       "<Figure size 1296x648 with 1 Axes>"
      ]
     },
     "metadata": {
      "needs_background": "light"
     },
     "output_type": "display_data"
    },
    {
     "data": {
      "application/javascript": [
       "\n",
       "            setTimeout(function() {\n",
       "                var nbb_cell_id = 131;\n",
       "                var nbb_unformatted_code = \"###Plot data without defining variables\\nplt.figure(figsize=(18, 9))\\nsns.countplot(data2[\\\"year\\\"])\\nplt.xlabel(\\\"Year\\\")\\nplt.xticks(rotation=45)\\nplt.ylabel(\\\"Number of Attacks\\\")\\nplt.title(\\\"No of Attacks per year (1970-2017)\\\");\";\n",
       "                var nbb_formatted_code = \"###Plot data without defining variables\\nplt.figure(figsize=(18, 9))\\nsns.countplot(data2[\\\"year\\\"])\\nplt.xlabel(\\\"Year\\\")\\nplt.xticks(rotation=45)\\nplt.ylabel(\\\"Number of Attacks\\\")\\nplt.title(\\\"No of Attacks per year (1970-2017)\\\")\";\n",
       "                var nbb_cells = Jupyter.notebook.get_cells();\n",
       "                for (var i = 0; i < nbb_cells.length; ++i) {\n",
       "                    if (nbb_cells[i].input_prompt_number == nbb_cell_id) {\n",
       "                        if (nbb_cells[i].get_text() == nbb_unformatted_code) {\n",
       "                             nbb_cells[i].set_text(nbb_formatted_code);\n",
       "                        }\n",
       "                        break;\n",
       "                    }\n",
       "                }\n",
       "            }, 500);\n",
       "            "
      ],
      "text/plain": [
       "<IPython.core.display.Javascript object>"
      ]
     },
     "metadata": {},
     "output_type": "display_data"
    }
   ],
   "source": [
    "###Plot data without defining variables\n",
    "plt.figure(figsize=(18, 9))\n",
    "sns.countplot(data2[\"year\"])\n",
    "plt.xlabel(\"Year\")\n",
    "plt.xticks(rotation=45)\n",
    "plt.ylabel(\"Number of Attacks\")\n",
    "plt.title(\"No of Attacks per year (1970-2017)\")\n",
    "plt.show();"
   ]
  },
  {
   "cell_type": "code",
   "execution_count": 132,
   "metadata": {},
   "outputs": [
    {
     "data": {
      "application/javascript": [
       "\n",
       "        if (window._pyforest_update_imports_cell) { window._pyforest_update_imports_cell('import matplotlib.pyplot as plt\\nimport pandas as pd\\nimport seaborn as sns'); }\n",
       "    "
      ],
      "text/plain": [
       "<IPython.core.display.Javascript object>"
      ]
     },
     "metadata": {},
     "output_type": "display_data"
    },
    {
     "data": {
      "application/javascript": [
       "\n",
       "        if (window._pyforest_update_imports_cell) { window._pyforest_update_imports_cell('import matplotlib.pyplot as plt\\nimport pandas as pd\\nimport seaborn as sns'); }\n",
       "    "
      ],
      "text/plain": [
       "<IPython.core.display.Javascript object>"
      ]
     },
     "metadata": {},
     "output_type": "display_data"
    },
    {
     "data": {
      "application/javascript": [
       "\n",
       "        if (window._pyforest_update_imports_cell) { window._pyforest_update_imports_cell('import matplotlib.pyplot as plt\\nimport pandas as pd\\nimport seaborn as sns'); }\n",
       "    "
      ],
      "text/plain": [
       "<IPython.core.display.Javascript object>"
      ]
     },
     "metadata": {},
     "output_type": "display_data"
    },
    {
     "data": {
      "application/javascript": [
       "\n",
       "        if (window._pyforest_update_imports_cell) { window._pyforest_update_imports_cell('import matplotlib.pyplot as plt\\nimport pandas as pd\\nimport seaborn as sns'); }\n",
       "    "
      ],
      "text/plain": [
       "<IPython.core.display.Javascript object>"
      ]
     },
     "metadata": {},
     "output_type": "display_data"
    },
    {
     "data": {
      "application/javascript": [
       "\n",
       "        if (window._pyforest_update_imports_cell) { window._pyforest_update_imports_cell('import matplotlib.pyplot as plt\\nimport pandas as pd\\nimport seaborn as sns'); }\n",
       "    "
      ],
      "text/plain": [
       "<IPython.core.display.Javascript object>"
      ]
     },
     "metadata": {},
     "output_type": "display_data"
    },
    {
     "data": {
      "application/javascript": [
       "\n",
       "        if (window._pyforest_update_imports_cell) { window._pyforest_update_imports_cell('import matplotlib.pyplot as plt\\nimport pandas as pd\\nimport seaborn as sns'); }\n",
       "    "
      ],
      "text/plain": [
       "<IPython.core.display.Javascript object>"
      ]
     },
     "metadata": {},
     "output_type": "display_data"
    },
    {
     "data": {
      "image/png": "[encoded data removed]",
      "text/plain": [
       "<Figure size 1296x648 with 1 Axes>"
      ]
     },
     "metadata": {
      "needs_background": "light"
     },
     "output_type": "display_data"
    },
    {
     "data": {
      "application/javascript": [
       "\n",
       "            setTimeout(function() {\n",
       "                var nbb_cell_id = 132;\n",
       "                var nbb_unformatted_code = \"### Another method to plot the same data\\nplt.figure(figsize=(18, 9))\\nyear = data2[\\\"year\\\"].unique()\\ncount = data2[\\\"year\\\"].value_counts().sort_index()\\nsns.barplot(x=year, y=count)\\nplt.xlabel(\\\"Year\\\")\\nplt.xticks(rotation=45)\\nplt.ylabel(\\\"Number of Attacks\\\")\\nplt.title(\\\"No of Attacks per year (1970-2017)\\\");\";\n",
       "                var nbb_formatted_code = \"### Another method to plot the same data\\nplt.figure(figsize=(18, 9))\\nyear = data2[\\\"year\\\"].unique()\\ncount = data2[\\\"year\\\"].value_counts().sort_index()\\nsns.barplot(x=year, y=count)\\nplt.xlabel(\\\"Year\\\")\\nplt.xticks(rotation=45)\\nplt.ylabel(\\\"Number of Attacks\\\")\\nplt.title(\\\"No of Attacks per year (1970-2017)\\\")\";\n",
       "                var nbb_cells = Jupyter.notebook.get_cells();\n",
       "                for (var i = 0; i < nbb_cells.length; ++i) {\n",
       "                    if (nbb_cells[i].input_prompt_number == nbb_cell_id) {\n",
       "                        if (nbb_cells[i].get_text() == nbb_unformatted_code) {\n",
       "                             nbb_cells[i].set_text(nbb_formatted_code);\n",
       "                        }\n",
       "                        break;\n",
       "                    }\n",
       "                }\n",
       "            }, 500);\n",
       "            "
      ],
      "text/plain": [
       "<IPython.core.display.Javascript object>"
      ]
     },
     "metadata": {},
     "output_type": "display_data"
    }
   ],
   "source": [
    "### Another method to plot the same data\n",
    "plt.figure(figsize=(18, 9))\n",
    "year = data2[\"year\"].unique()\n",
    "count = data2[\"year\"].value_counts().sort_index()\n",
    "sns.barplot(x=year, y=count)\n",
    "plt.xlabel(\"Year\")\n",
    "plt.xticks(rotation=45)\n",
    "plt.ylabel(\"Number of Attacks\")\n",
    "plt.title(\"No of Attacks per year (1970-2017)\")\n",
    "plt.show();"
   ]
  },
  {
   "cell_type": "code",
   "execution_count": 184,
   "metadata": {},
   "outputs": [
    {
     "data": {
      "application/javascript": [
       "\n",
       "        if (window._pyforest_update_imports_cell) { window._pyforest_update_imports_cell('import matplotlib.pyplot as plt\\nimport pandas as pd\\nimport seaborn as sns'); }\n",
       "    "
      ],
      "text/plain": [
       "<IPython.core.display.Javascript object>"
      ]
     },
     "metadata": {},
     "output_type": "display_data"
    },
    {
     "data": {
      "application/javascript": [
       "\n",
       "        if (window._pyforest_update_imports_cell) { window._pyforest_update_imports_cell('import matplotlib.pyplot as plt\\nimport pandas as pd\\nimport seaborn as sns'); }\n",
       "    "
      ],
      "text/plain": [
       "<IPython.core.display.Javascript object>"
      ]
     },
     "metadata": {},
     "output_type": "display_data"
    },
    {
     "data": {
      "application/javascript": [
       "\n",
       "        if (window._pyforest_update_imports_cell) { window._pyforest_update_imports_cell('import matplotlib.pyplot as plt\\nimport pandas as pd\\nimport seaborn as sns'); }\n",
       "    "
      ],
      "text/plain": [
       "<IPython.core.display.Javascript object>"
      ]
     },
     "metadata": {},
     "output_type": "display_data"
    },
    {
     "data": {
      "application/javascript": [
       "\n",
       "        if (window._pyforest_update_imports_cell) { window._pyforest_update_imports_cell('import matplotlib.pyplot as plt\\nimport pandas as pd\\nimport seaborn as sns'); }\n",
       "    "
      ],
      "text/plain": [
       "<IPython.core.display.Javascript object>"
      ]
     },
     "metadata": {},
     "output_type": "display_data"
    },
    {
     "data": {
      "application/javascript": [
       "\n",
       "        if (window._pyforest_update_imports_cell) { window._pyforest_update_imports_cell('import matplotlib.pyplot as plt\\nimport pandas as pd\\nimport seaborn as sns'); }\n",
       "    "
      ],
      "text/plain": [
       "<IPython.core.display.Javascript object>"
      ]
     },
     "metadata": {},
     "output_type": "display_data"
    },
    {
     "data": {
      "application/javascript": [
       "\n",
       "        if (window._pyforest_update_imports_cell) { window._pyforest_update_imports_cell('import matplotlib.pyplot as plt\\nimport pandas as pd\\nimport seaborn as sns'); }\n",
       "    "
      ],
      "text/plain": [
       "<IPython.core.display.Javascript object>"
      ]
     },
     "metadata": {},
     "output_type": "display_data"
    },
    {
     "data": {
      "application/javascript": [
       "\n",
       "        if (window._pyforest_update_imports_cell) { window._pyforest_update_imports_cell('import matplotlib.pyplot as plt\\nimport pandas as pd\\nimport seaborn as sns'); }\n",
       "    "
      ],
      "text/plain": [
       "<IPython.core.display.Javascript object>"
      ]
     },
     "metadata": {},
     "output_type": "display_data"
    },
    {
     "data": {
      "image/png": "[encoded data removed]",
      "text/plain": [
       "<Figure size 1080x648 with 1 Axes>"
      ]
     },
     "metadata": {
      "needs_background": "light"
     },
     "output_type": "display_data"
    },
    {
     "data": {
      "application/javascript": [
       "\n",
       "            setTimeout(function() {\n",
       "                var nbb_cell_id = 184;\n",
       "                var nbb_unformatted_code = \"plt.figure(figsize=(15, 9))\\nax = sns.countplot(data2[\\\"month\\\"])\\nplt.xlabel(\\\"Year\\\")\\nlabels = [\\n    \\\"NA\\\",\\n    \\\"Jan\\\",\\n    \\\"Feb\\\",\\n    \\\"March\\\",\\n    \\\"April\\\",\\n    \\\"May\\\",\\n    \\\"June\\\",\\n    \\\"July\\\",\\n    \\\"Aug\\\",\\n    \\\"Sept\\\",\\n    \\\"Oct\\\",\\n    \\\"Nov\\\",\\n    \\\"Dec\\\",\\n]\\nax.set_xticklabels(labels)\\nplt.xticks(rotation=45)\\nplt.ylabel(\\\"Number of Attacks\\\")\\nplt.title(\\\"No of Attacks per year (1970-2017)\\\")\\nplt.show();\\n###Attacks are evenly distriuted across each month of the year\";\n",
       "                var nbb_formatted_code = \"plt.figure(figsize=(15, 9))\\nax = sns.countplot(data2[\\\"month\\\"])\\nplt.xlabel(\\\"Year\\\")\\nlabels = [\\n    \\\"NA\\\",\\n    \\\"Jan\\\",\\n    \\\"Feb\\\",\\n    \\\"March\\\",\\n    \\\"April\\\",\\n    \\\"May\\\",\\n    \\\"June\\\",\\n    \\\"July\\\",\\n    \\\"Aug\\\",\\n    \\\"Sept\\\",\\n    \\\"Oct\\\",\\n    \\\"Nov\\\",\\n    \\\"Dec\\\",\\n]\\nax.set_xticklabels(labels)\\nplt.xticks(rotation=45)\\nplt.ylabel(\\\"Number of Attacks\\\")\\nplt.title(\\\"No of Attacks per year (1970-2017)\\\")\\nplt.show()\\n###Attacks are evenly distriuted across each month of the year\";\n",
       "                var nbb_cells = Jupyter.notebook.get_cells();\n",
       "                for (var i = 0; i < nbb_cells.length; ++i) {\n",
       "                    if (nbb_cells[i].input_prompt_number == nbb_cell_id) {\n",
       "                        if (nbb_cells[i].get_text() == nbb_unformatted_code) {\n",
       "                             nbb_cells[i].set_text(nbb_formatted_code);\n",
       "                        }\n",
       "                        break;\n",
       "                    }\n",
       "                }\n",
       "            }, 500);\n",
       "            "
      ],
      "text/plain": [
       "<IPython.core.display.Javascript object>"
      ]
     },
     "metadata": {},
     "output_type": "display_data"
    }
   ],
   "source": [
    "plt.figure(figsize=(15, 9))\n",
    "ax = sns.countplot(data2[\"month\"])\n",
    "plt.xlabel(\"Year\")\n",
    "labels = [\n",
    "    \"NA\",\n",
    "    \"Jan\",\n",
    "    \"Feb\",\n",
    "    \"March\",\n",
    "    \"April\",\n",
    "    \"May\",\n",
    "    \"June\",\n",
    "    \"July\",\n",
    "    \"Aug\",\n",
    "    \"Sept\",\n",
    "    \"Oct\",\n",
    "    \"Nov\",\n",
    "    \"Dec\",\n",
    "]\n",
    "ax.set_xticklabels(labels)\n",
    "plt.xticks(rotation=45)\n",
    "plt.ylabel(\"Number of Attacks\")\n",
    "plt.title(\"No of Attacks per year (1970-2017)\")\n",
    "plt.show()\n",
    "###Attacks are evenly distriuted across each month of the year"
   ]
  },
  {
   "cell_type": "code",
   "execution_count": 144,
   "metadata": {},
   "outputs": [
    {
     "data": {
      "text/plain": [
       "Iraq              24636\n",
       "Pakistan          14368\n",
       "Afghanistan       12731\n",
       "India             11960\n",
       "Colombia           8306\n",
       "Philippines        6908\n",
       "Peru               6096\n",
       "El Salvador        5320\n",
       "United Kingdom     5235\n",
       "Turkey             4292\n",
       "Somalia            4142\n",
       "Nigeria            3907\n",
       "Thailand           3849\n",
       "Yemen              3347\n",
       "Spain              3249\n",
       "Name: country_name, dtype: int64"
      ]
     },
     "execution_count": 144,
     "metadata": {},
     "output_type": "execute_result"
    },
    {
     "data": {
      "application/javascript": [
       "\n",
       "            setTimeout(function() {\n",
       "                var nbb_cell_id = 144;\n",
       "                var nbb_unformatted_code = \"data2[\\\"country_name\\\"].value_counts()[:15]\";\n",
       "                var nbb_formatted_code = \"data2[\\\"country_name\\\"].value_counts()[:15]\";\n",
       "                var nbb_cells = Jupyter.notebook.get_cells();\n",
       "                for (var i = 0; i < nbb_cells.length; ++i) {\n",
       "                    if (nbb_cells[i].input_prompt_number == nbb_cell_id) {\n",
       "                        if (nbb_cells[i].get_text() == nbb_unformatted_code) {\n",
       "                             nbb_cells[i].set_text(nbb_formatted_code);\n",
       "                        }\n",
       "                        break;\n",
       "                    }\n",
       "                }\n",
       "            }, 500);\n",
       "            "
      ],
      "text/plain": [
       "<IPython.core.display.Javascript object>"
      ]
     },
     "metadata": {},
     "output_type": "display_data"
    }
   ],
   "source": [
    "###Show the top 15 most attacked countries\n",
    "data2[\"country_name\"].value_counts()[:15]"
   ]
  },
  {
   "cell_type": "code",
   "execution_count": 167,
   "metadata": {},
   "outputs": [
    {
     "data": {
      "application/javascript": [
       "\n",
       "        if (window._pyforest_update_imports_cell) { window._pyforest_update_imports_cell('import matplotlib.pyplot as plt\\nimport pandas as pd\\nimport seaborn as sns'); }\n",
       "    "
      ],
      "text/plain": [
       "<IPython.core.display.Javascript object>"
      ]
     },
     "metadata": {},
     "output_type": "display_data"
    },
    {
     "data": {
      "application/javascript": [
       "\n",
       "        if (window._pyforest_update_imports_cell) { window._pyforest_update_imports_cell('import matplotlib.pyplot as plt\\nimport pandas as pd\\nimport seaborn as sns'); }\n",
       "    "
      ],
      "text/plain": [
       "<IPython.core.display.Javascript object>"
      ]
     },
     "metadata": {},
     "output_type": "display_data"
    },
    {
     "data": {
      "application/javascript": [
       "\n",
       "        if (window._pyforest_update_imports_cell) { window._pyforest_update_imports_cell('import matplotlib.pyplot as plt\\nimport pandas as pd\\nimport seaborn as sns'); }\n",
       "    "
      ],
      "text/plain": [
       "<IPython.core.display.Javascript object>"
      ]
     },
     "metadata": {},
     "output_type": "display_data"
    },
    {
     "data": {
      "application/javascript": [
       "\n",
       "        if (window._pyforest_update_imports_cell) { window._pyforest_update_imports_cell('import matplotlib.pyplot as plt\\nimport pandas as pd\\nimport seaborn as sns'); }\n",
       "    "
      ],
      "text/plain": [
       "<IPython.core.display.Javascript object>"
      ]
     },
     "metadata": {},
     "output_type": "display_data"
    },
    {
     "data": {
      "application/javascript": [
       "\n",
       "        if (window._pyforest_update_imports_cell) { window._pyforest_update_imports_cell('import matplotlib.pyplot as plt\\nimport pandas as pd\\nimport seaborn as sns'); }\n",
       "    "
      ],
      "text/plain": [
       "<IPython.core.display.Javascript object>"
      ]
     },
     "metadata": {},
     "output_type": "display_data"
    },
    {
     "data": {
      "application/javascript": [
       "\n",
       "        if (window._pyforest_update_imports_cell) { window._pyforest_update_imports_cell('import matplotlib.pyplot as plt\\nimport pandas as pd\\nimport seaborn as sns'); }\n",
       "    "
      ],
      "text/plain": [
       "<IPython.core.display.Javascript object>"
      ]
     },
     "metadata": {},
     "output_type": "display_data"
    },
    {
     "data": {
      "application/javascript": [
       "\n",
       "        if (window._pyforest_update_imports_cell) { window._pyforest_update_imports_cell('import matplotlib.pyplot as plt\\nimport pandas as pd\\nimport seaborn as sns'); }\n",
       "    "
      ],
      "text/plain": [
       "<IPython.core.display.Javascript object>"
      ]
     },
     "metadata": {},
     "output_type": "display_data"
    },
    {
     "data": {
      "image/png": "[encoded data removed]",
      "text/plain": [
       "<Figure size 1080x648 with 1 Axes>"
      ]
     },
     "metadata": {
      "needs_background": "light"
     },
     "output_type": "display_data"
    },
    {
     "data": {
      "application/javascript": [
       "\n",
       "            setTimeout(function() {\n",
       "                var nbb_cell_id = 167;\n",
       "                var nbb_unformatted_code = \"# Visualizing the top 10 attacked countries\\nplt.figure(figsize=(15, 9))\\nsns.barplot(\\n    data[\\\"country_txt\\\"].value_counts()[:15].index,\\n    data[\\\"country\\\"].value_counts()[:15].values,\\n    palette=(\\\"mako\\\"),\\n)\\nplt.title(\\\"Top 15 Countries Affected\\\")\\nplt.xlabel(\\\"Countries Attacked\\\")\\nplt.ylabel(\\\"Counts\\\")\\nplt.xticks(rotation=45)\\nplt.show();\";\n",
       "                var nbb_formatted_code = \"# Visualizing the top 10 attacked countries\\nplt.figure(figsize=(15, 9))\\nsns.barplot(\\n    data[\\\"country_txt\\\"].value_counts()[:15].index,\\n    data[\\\"country\\\"].value_counts()[:15].values,\\n    palette=(\\\"mako\\\"),\\n)\\nplt.title(\\\"Top 15 Countries Affected\\\")\\nplt.xlabel(\\\"Countries Attacked\\\")\\nplt.ylabel(\\\"Counts\\\")\\nplt.xticks(rotation=45)\\nplt.show()\";\n",
       "                var nbb_cells = Jupyter.notebook.get_cells();\n",
       "                for (var i = 0; i < nbb_cells.length; ++i) {\n",
       "                    if (nbb_cells[i].input_prompt_number == nbb_cell_id) {\n",
       "                        if (nbb_cells[i].get_text() == nbb_unformatted_code) {\n",
       "                             nbb_cells[i].set_text(nbb_formatted_code);\n",
       "                        }\n",
       "                        break;\n",
       "                    }\n",
       "                }\n",
       "            }, 500);\n",
       "            "
      ],
      "text/plain": [
       "<IPython.core.display.Javascript object>"
      ]
     },
     "metadata": {},
     "output_type": "display_data"
    }
   ],
   "source": [
    "# Visualizing the top 10 attacked countries\n",
    "plt.figure(figsize=(15, 9))\n",
    "sns.barplot(\n",
    "    data2[\"country_name\"].value_counts()[:15].index,\n",
    "    data2[\"country\"].value_counts()[:15].values,\n",
    "    palette=(\"mako\"),\n",
    ")\n",
    "plt.title(\"Top 15 Countries Affected\")\n",
    "plt.xlabel(\"Countries Attacked\")\n",
    "plt.ylabel(\"Counts\")\n",
    "plt.xticks(rotation=45)\n",
    "plt.show()"
   ]
  },
  {
   "cell_type": "code",
   "execution_count": 170,
   "metadata": {},
   "outputs": [
    {
     "data": {
      "text/plain": [
       "Baghdad         7589\n",
       "Karachi         2652\n",
       "Lima            2359\n",
       "Mosul           2265\n",
       "Belfast         2171\n",
       "Santiago        1621\n",
       "Mogadishu       1581\n",
       "San Salvador    1558\n",
       "Istanbul        1048\n",
       "Athens          1019\n",
       "Bogota           984\n",
       "Kirkuk           925\n",
       "Beirut           918\n",
       "Medellin         848\n",
       "Benghazi         840\n",
       "Name: city, dtype: int64"
      ]
     },
     "execution_count": 170,
     "metadata": {},
     "output_type": "execute_result"
    },
    {
     "data": {
      "application/javascript": [
       "\n",
       "            setTimeout(function() {\n",
       "                var nbb_cell_id = 170;\n",
       "                var nbb_unformatted_code = \"data2[\\\"city\\\"].value_counts()[1:16]\";\n",
       "                var nbb_formatted_code = \"data2[\\\"city\\\"].value_counts()[1:16]\";\n",
       "                var nbb_cells = Jupyter.notebook.get_cells();\n",
       "                for (var i = 0; i < nbb_cells.length; ++i) {\n",
       "                    if (nbb_cells[i].input_prompt_number == nbb_cell_id) {\n",
       "                        if (nbb_cells[i].get_text() == nbb_unformatted_code) {\n",
       "                             nbb_cells[i].set_text(nbb_formatted_code);\n",
       "                        }\n",
       "                        break;\n",
       "                    }\n",
       "                }\n",
       "            }, 500);\n",
       "            "
      ],
      "text/plain": [
       "<IPython.core.display.Javascript object>"
      ]
     },
     "metadata": {},
     "output_type": "display_data"
    }
   ],
   "source": [
    "###The highest value of attacks was for unknown cities so I have dropped it from the counts\n",
    "data2[\"city\"].value_counts()[1:16]"
   ]
  },
  {
   "cell_type": "code",
   "execution_count": 172,
   "metadata": {},
   "outputs": [
    {
     "data": {
      "application/javascript": [
       "\n",
       "        if (window._pyforest_update_imports_cell) { window._pyforest_update_imports_cell('import matplotlib.pyplot as plt\\nimport pandas as pd\\nimport seaborn as sns'); }\n",
       "    "
      ],
      "text/plain": [
       "<IPython.core.display.Javascript object>"
      ]
     },
     "metadata": {},
     "output_type": "display_data"
    },
    {
     "data": {
      "application/javascript": [
       "\n",
       "        if (window._pyforest_update_imports_cell) { window._pyforest_update_imports_cell('import matplotlib.pyplot as plt\\nimport pandas as pd\\nimport seaborn as sns'); }\n",
       "    "
      ],
      "text/plain": [
       "<IPython.core.display.Javascript object>"
      ]
     },
     "metadata": {},
     "output_type": "display_data"
    },
    {
     "data": {
      "application/javascript": [
       "\n",
       "        if (window._pyforest_update_imports_cell) { window._pyforest_update_imports_cell('import matplotlib.pyplot as plt\\nimport pandas as pd\\nimport seaborn as sns'); }\n",
       "    "
      ],
      "text/plain": [
       "<IPython.core.display.Javascript object>"
      ]
     },
     "metadata": {},
     "output_type": "display_data"
    },
    {
     "data": {
      "application/javascript": [
       "\n",
       "        if (window._pyforest_update_imports_cell) { window._pyforest_update_imports_cell('import matplotlib.pyplot as plt\\nimport pandas as pd\\nimport seaborn as sns'); }\n",
       "    "
      ],
      "text/plain": [
       "<IPython.core.display.Javascript object>"
      ]
     },
     "metadata": {},
     "output_type": "display_data"
    },
    {
     "data": {
      "application/javascript": [
       "\n",
       "        if (window._pyforest_update_imports_cell) { window._pyforest_update_imports_cell('import matplotlib.pyplot as plt\\nimport pandas as pd\\nimport seaborn as sns'); }\n",
       "    "
      ],
      "text/plain": [
       "<IPython.core.display.Javascript object>"
      ]
     },
     "metadata": {},
     "output_type": "display_data"
    },
    {
     "data": {
      "application/javascript": [
       "\n",
       "        if (window._pyforest_update_imports_cell) { window._pyforest_update_imports_cell('import matplotlib.pyplot as plt\\nimport pandas as pd\\nimport seaborn as sns'); }\n",
       "    "
      ],
      "text/plain": [
       "<IPython.core.display.Javascript object>"
      ]
     },
     "metadata": {},
     "output_type": "display_data"
    },
    {
     "data": {
      "application/javascript": [
       "\n",
       "        if (window._pyforest_update_imports_cell) { window._pyforest_update_imports_cell('import matplotlib.pyplot as plt\\nimport pandas as pd\\nimport seaborn as sns'); }\n",
       "    "
      ],
      "text/plain": [
       "<IPython.core.display.Javascript object>"
      ]
     },
     "metadata": {},
     "output_type": "display_data"
    },
    {
     "data": {
      "image/png": "[encoded data removed]",
      "text/plain": [
       "<Figure size 1080x648 with 1 Axes>"
      ]
     },
     "metadata": {
      "needs_background": "light"
     },
     "output_type": "display_data"
    },
    {
     "data": {
      "application/javascript": [
       "\n",
       "            setTimeout(function() {\n",
       "                var nbb_cell_id = 172;\n",
       "                var nbb_unformatted_code = \"plt.figure(figsize=(15, 9))\\nsns.barplot(\\n    data[\\\"city\\\"].value_counts()[1:16].index,\\n    data[\\\"city\\\"].value_counts()[1:16].values,\\n    palette=(\\\"hls\\\"),\\n)\\nplt.title(\\\"Top 15 Attacked Cities\\\")\\nplt.xlabel(\\\"Cities Attacked\\\")\\nplt.ylabel(\\\"Counts\\\")\\nplt.xticks(rotation=45)\\nplt.show();\";\n",
       "                var nbb_formatted_code = \"plt.figure(figsize=(15, 9))\\nsns.barplot(\\n    data[\\\"city\\\"].value_counts()[1:16].index,\\n    data[\\\"city\\\"].value_counts()[1:16].values,\\n    palette=(\\\"hls\\\"),\\n)\\nplt.title(\\\"Top 15 Attacked Cities\\\")\\nplt.xlabel(\\\"Cities Attacked\\\")\\nplt.ylabel(\\\"Counts\\\")\\nplt.xticks(rotation=45)\\nplt.show()\";\n",
       "                var nbb_cells = Jupyter.notebook.get_cells();\n",
       "                for (var i = 0; i < nbb_cells.length; ++i) {\n",
       "                    if (nbb_cells[i].input_prompt_number == nbb_cell_id) {\n",
       "                        if (nbb_cells[i].get_text() == nbb_unformatted_code) {\n",
       "                             nbb_cells[i].set_text(nbb_formatted_code);\n",
       "                        }\n",
       "                        break;\n",
       "                    }\n",
       "                }\n",
       "            }, 500);\n",
       "            "
      ],
      "text/plain": [
       "<IPython.core.display.Javascript object>"
      ]
     },
     "metadata": {},
     "output_type": "display_data"
    }
   ],
   "source": [
    "plt.figure(figsize=(15, 9))\n",
    "sns.barplot(\n",
    "    data2[\"city\"].value_counts()[1:16].index,\n",
    "    data2[\"city\"].value_counts()[1:16].values,\n",
    "    palette=(\"hls\"),\n",
    ")\n",
    "plt.title(\"Top 15 Attacked Cities\")\n",
    "plt.xlabel(\"Cities Attacked\")\n",
    "plt.ylabel(\"Counts\")\n",
    "plt.xticks(rotation=45)\n",
    "plt.show()"
   ]
  },
  {
   "cell_type": "code",
   "execution_count": 216,
   "metadata": {},
   "outputs": [
    {
     "data": {
      "text/plain": [
       "country_name\n",
       "Iraq           78589.0\n",
       "Afghanistan    39384.0\n",
       "Pakistan       23822.0\n",
       "Nigeria        22682.0\n",
       "India          19341.0\n",
       "Sri Lanka      15530.0\n",
       "Syria          15229.0\n",
       "Colombia       14698.0\n",
       "Peru           12771.0\n",
       "El Salvador    12053.0\n",
       "Name: killed, dtype: float64"
      ]
     },
     "execution_count": 216,
     "metadata": {},
     "output_type": "execute_result"
    },
    {
     "data": {
      "application/javascript": [
       "\n",
       "            setTimeout(function() {\n",
       "                var nbb_cell_id = 216;\n",
       "                var nbb_unformatted_code = \"data2.groupby(\\\"country_name\\\")[\\\"killed\\\"].sum().sort_values(ascending=False)[0:10]\";\n",
       "                var nbb_formatted_code = \"data2.groupby(\\\"country_name\\\")[\\\"killed\\\"].sum().sort_values(ascending=False)[0:10]\";\n",
       "                var nbb_cells = Jupyter.notebook.get_cells();\n",
       "                for (var i = 0; i < nbb_cells.length; ++i) {\n",
       "                    if (nbb_cells[i].input_prompt_number == nbb_cell_id) {\n",
       "                        if (nbb_cells[i].get_text() == nbb_unformatted_code) {\n",
       "                             nbb_cells[i].set_text(nbb_formatted_code);\n",
       "                        }\n",
       "                        break;\n",
       "                    }\n",
       "                }\n",
       "            }, 500);\n",
       "            "
      ],
      "text/plain": [
       "<IPython.core.display.Javascript object>"
      ]
     },
     "metadata": {},
     "output_type": "display_data"
    }
   ],
   "source": [
    "data2.groupby(\"country_name\")[\"killed\"].sum().sort_values(ascending=False)[0:10]"
   ]
  },
  {
   "cell_type": "code",
   "execution_count": 217,
   "metadata": {},
   "outputs": [
    {
     "data": {
      "text/plain": [
       "city\n",
       "Baghdad          21151.0\n",
       "Mosul             7140.0\n",
       "Mogadishu         3913.0\n",
       "Karachi           3688.0\n",
       "New York City     2838.0\n",
       "Tikrit            2679.0\n",
       "Kabul             2493.0\n",
       "Ramadi            2313.0\n",
       "Maiduguri         2235.0\n",
       "Aleppo            2125.0\n",
       "Name: killed, dtype: float64"
      ]
     },
     "execution_count": 217,
     "metadata": {},
     "output_type": "execute_result"
    },
    {
     "data": {
      "application/javascript": [
       "\n",
       "            setTimeout(function() {\n",
       "                var nbb_cell_id = 217;\n",
       "                var nbb_unformatted_code = \"data2.groupby(\\\"city\\\")[\\\"killed\\\"].sum().sort_values(ascending=False)[1:11]\";\n",
       "                var nbb_formatted_code = \"data2.groupby(\\\"city\\\")[\\\"killed\\\"].sum().sort_values(ascending=False)[1:11]\";\n",
       "                var nbb_cells = Jupyter.notebook.get_cells();\n",
       "                for (var i = 0; i < nbb_cells.length; ++i) {\n",
       "                    if (nbb_cells[i].input_prompt_number == nbb_cell_id) {\n",
       "                        if (nbb_cells[i].get_text() == nbb_unformatted_code) {\n",
       "                             nbb_cells[i].set_text(nbb_formatted_code);\n",
       "                        }\n",
       "                        break;\n",
       "                    }\n",
       "                }\n",
       "            }, 500);\n",
       "            "
      ],
      "text/plain": [
       "<IPython.core.display.Javascript object>"
      ]
     },
     "metadata": {},
     "output_type": "display_data"
    }
   ],
   "source": [
    "data2.groupby(\"city\")[\"killed\"].sum().sort_values(ascending=False)[1:11]"
   ]
  },
  {
   "cell_type": "code",
   "execution_count": 199,
   "metadata": {},
   "outputs": [
    {
     "data": {
      "application/javascript": [
       "\n",
       "        if (window._pyforest_update_imports_cell) { window._pyforest_update_imports_cell('import matplotlib.pyplot as plt\\nimport pandas as pd\\nimport seaborn as sns'); }\n",
       "    "
      ],
      "text/plain": [
       "<IPython.core.display.Javascript object>"
      ]
     },
     "metadata": {},
     "output_type": "display_data"
    },
    {
     "data": {
      "application/javascript": [
       "\n",
       "        if (window._pyforest_update_imports_cell) { window._pyforest_update_imports_cell('import matplotlib.pyplot as plt\\nimport pandas as pd\\nimport seaborn as sns'); }\n",
       "    "
      ],
      "text/plain": [
       "<IPython.core.display.Javascript object>"
      ]
     },
     "metadata": {},
     "output_type": "display_data"
    },
    {
     "data": {
      "application/javascript": [
       "\n",
       "        if (window._pyforest_update_imports_cell) { window._pyforest_update_imports_cell('import matplotlib.pyplot as plt\\nimport pandas as pd\\nimport seaborn as sns'); }\n",
       "    "
      ],
      "text/plain": [
       "<IPython.core.display.Javascript object>"
      ]
     },
     "metadata": {},
     "output_type": "display_data"
    },
    {
     "data": {
      "application/javascript": [
       "\n",
       "        if (window._pyforest_update_imports_cell) { window._pyforest_update_imports_cell('import matplotlib.pyplot as plt\\nimport pandas as pd\\nimport seaborn as sns'); }\n",
       "    "
      ],
      "text/plain": [
       "<IPython.core.display.Javascript object>"
      ]
     },
     "metadata": {},
     "output_type": "display_data"
    },
    {
     "data": {
      "application/javascript": [
       "\n",
       "        if (window._pyforest_update_imports_cell) { window._pyforest_update_imports_cell('import matplotlib.pyplot as plt\\nimport pandas as pd\\nimport seaborn as sns'); }\n",
       "    "
      ],
      "text/plain": [
       "<IPython.core.display.Javascript object>"
      ]
     },
     "metadata": {},
     "output_type": "display_data"
    },
    {
     "data": {
      "application/javascript": [
       "\n",
       "        if (window._pyforest_update_imports_cell) { window._pyforest_update_imports_cell('import matplotlib.pyplot as plt\\nimport pandas as pd\\nimport seaborn as sns'); }\n",
       "    "
      ],
      "text/plain": [
       "<IPython.core.display.Javascript object>"
      ]
     },
     "metadata": {},
     "output_type": "display_data"
    },
    {
     "data": {
      "application/javascript": [
       "\n",
       "        if (window._pyforest_update_imports_cell) { window._pyforest_update_imports_cell('import matplotlib.pyplot as plt\\nimport pandas as pd\\nimport seaborn as sns'); }\n",
       "    "
      ],
      "text/plain": [
       "<IPython.core.display.Javascript object>"
      ]
     },
     "metadata": {},
     "output_type": "display_data"
    },
    {
     "data": {
      "image/png": "[encoded data removed]",
      "text/plain": [
       "<Figure size 1080x648 with 1 Axes>"
      ]
     },
     "metadata": {
      "needs_background": "light"
     },
     "output_type": "display_data"
    },
    {
     "data": {
      "application/javascript": [
       "\n",
       "            setTimeout(function() {\n",
       "                var nbb_cell_id = 199;\n",
       "                var nbb_unformatted_code = \"plt.figure(figsize=(15, 9))\\nsns.barplot(\\n    data2[\\\"attack_method\\\"].value_counts()[:10].index,\\n    data2[\\\"attacktype\\\"].value_counts()[:10].values,\\n    palette=(\\\"rocket\\\"),\\n)\\nplt.title(\\\"Types of method used in the attack\\\")\\nplt.xlabel(\\\"Method of choice\\\")\\nplt.ylabel(\\\"Counts\\\")\\nplt.xticks(rotation=90)\\nplt.show();\";\n",
       "                var nbb_formatted_code = \"plt.figure(figsize=(15, 9))\\nsns.barplot(\\n    data2[\\\"attack_method\\\"].value_counts()[:10].index,\\n    data2[\\\"attacktype\\\"].value_counts()[:10].values,\\n    palette=(\\\"rocket\\\"),\\n)\\nplt.title(\\\"Types of method used in the attack\\\")\\nplt.xlabel(\\\"Method of choice\\\")\\nplt.ylabel(\\\"Counts\\\")\\nplt.xticks(rotation=90)\\nplt.show()\";\n",
       "                var nbb_cells = Jupyter.notebook.get_cells();\n",
       "                for (var i = 0; i < nbb_cells.length; ++i) {\n",
       "                    if (nbb_cells[i].input_prompt_number == nbb_cell_id) {\n",
       "                        if (nbb_cells[i].get_text() == nbb_unformatted_code) {\n",
       "                             nbb_cells[i].set_text(nbb_formatted_code);\n",
       "                        }\n",
       "                        break;\n",
       "                    }\n",
       "                }\n",
       "            }, 500);\n",
       "            "
      ],
      "text/plain": [
       "<IPython.core.display.Javascript object>"
      ]
     },
     "metadata": {},
     "output_type": "display_data"
    }
   ],
   "source": [
    "plt.figure(figsize=(15, 9))\n",
    "sns.barplot(\n",
    "    data2[\"attack_method\"].value_counts()[:10].index,\n",
    "    data2[\"attacktype\"].value_counts()[:10].values,\n",
    "    palette=(\"rocket\"),\n",
    ")\n",
    "plt.title(\"Types of method used in the attack\")\n",
    "plt.xlabel(\"Method of choice\")\n",
    "plt.ylabel(\"Counts\")\n",
    "plt.xticks(rotation=90)\n",
    "plt.show()"
   ]
  },
  {
   "cell_type": "code",
   "execution_count": 177,
   "metadata": {},
   "outputs": [
    {
     "data": {
      "application/javascript": [
       "\n",
       "        if (window._pyforest_update_imports_cell) { window._pyforest_update_imports_cell('import matplotlib.pyplot as plt\\nimport pandas as pd\\nimport seaborn as sns'); }\n",
       "    "
      ],
      "text/plain": [
       "<IPython.core.display.Javascript object>"
      ]
     },
     "metadata": {},
     "output_type": "display_data"
    },
    {
     "data": {
      "application/javascript": [
       "\n",
       "        if (window._pyforest_update_imports_cell) { window._pyforest_update_imports_cell('import matplotlib.pyplot as plt\\nimport pandas as pd\\nimport seaborn as sns'); }\n",
       "    "
      ],
      "text/plain": [
       "<IPython.core.display.Javascript object>"
      ]
     },
     "metadata": {},
     "output_type": "display_data"
    },
    {
     "data": {
      "application/javascript": [
       "\n",
       "        if (window._pyforest_update_imports_cell) { window._pyforest_update_imports_cell('import matplotlib.pyplot as plt\\nimport pandas as pd\\nimport seaborn as sns'); }\n",
       "    "
      ],
      "text/plain": [
       "<IPython.core.display.Javascript object>"
      ]
     },
     "metadata": {},
     "output_type": "display_data"
    },
    {
     "data": {
      "application/javascript": [
       "\n",
       "        if (window._pyforest_update_imports_cell) { window._pyforest_update_imports_cell('import matplotlib.pyplot as plt\\nimport pandas as pd\\nimport seaborn as sns'); }\n",
       "    "
      ],
      "text/plain": [
       "<IPython.core.display.Javascript object>"
      ]
     },
     "metadata": {},
     "output_type": "display_data"
    },
    {
     "data": {
      "application/javascript": [
       "\n",
       "        if (window._pyforest_update_imports_cell) { window._pyforest_update_imports_cell('import matplotlib.pyplot as plt\\nimport pandas as pd\\nimport seaborn as sns'); }\n",
       "    "
      ],
      "text/plain": [
       "<IPython.core.display.Javascript object>"
      ]
     },
     "metadata": {},
     "output_type": "display_data"
    },
    {
     "data": {
      "application/javascript": [
       "\n",
       "        if (window._pyforest_update_imports_cell) { window._pyforest_update_imports_cell('import matplotlib.pyplot as plt\\nimport pandas as pd\\nimport seaborn as sns'); }\n",
       "    "
      ],
      "text/plain": [
       "<IPython.core.display.Javascript object>"
      ]
     },
     "metadata": {},
     "output_type": "display_data"
    },
    {
     "data": {
      "application/javascript": [
       "\n",
       "        if (window._pyforest_update_imports_cell) { window._pyforest_update_imports_cell('import matplotlib.pyplot as plt\\nimport pandas as pd\\nimport seaborn as sns'); }\n",
       "    "
      ],
      "text/plain": [
       "<IPython.core.display.Javascript object>"
      ]
     },
     "metadata": {},
     "output_type": "display_data"
    },
    {
     "data": {
      "image/png": "[encoded data removed]",
      "text/plain": [
       "<Figure size 1080x648 with 1 Axes>"
      ]
     },
     "metadata": {
      "needs_background": "light"
     },
     "output_type": "display_data"
    },
    {
     "data": {
      "application/javascript": [
       "\n",
       "            setTimeout(function() {\n",
       "                var nbb_cell_id = 177;\n",
       "                var nbb_unformatted_code = \"plt.figure(figsize=(15, 9))\\nsns.barplot(\\n    data2[\\\"weapontype\\\"].value_counts()[:10].index,\\n    data2[\\\"weaptype\\\"].value_counts()[:10].values,\\n    palette=(\\\"rocket\\\"),\\n)\\nplt.title(\\\"Types of weapons used in the attack\\\")\\nplt.xlabel(\\\"Weapon of choice\\\")\\nplt.ylabel(\\\"Counts\\\")\\nplt.xticks(rotation=45)\\nplt.show();\";\n",
       "                var nbb_formatted_code = \"plt.figure(figsize=(15, 9))\\nsns.barplot(\\n    data2[\\\"weapontype\\\"].value_counts()[:10].index,\\n    data2[\\\"weaptype\\\"].value_counts()[:10].values,\\n    palette=(\\\"rocket\\\"),\\n)\\nplt.title(\\\"Types of weapons used in the attack\\\")\\nplt.xlabel(\\\"Weapon of choice\\\")\\nplt.ylabel(\\\"Counts\\\")\\nplt.xticks(rotation=45)\\nplt.show()\";\n",
       "                var nbb_cells = Jupyter.notebook.get_cells();\n",
       "                for (var i = 0; i < nbb_cells.length; ++i) {\n",
       "                    if (nbb_cells[i].input_prompt_number == nbb_cell_id) {\n",
       "                        if (nbb_cells[i].get_text() == nbb_unformatted_code) {\n",
       "                             nbb_cells[i].set_text(nbb_formatted_code);\n",
       "                        }\n",
       "                        break;\n",
       "                    }\n",
       "                }\n",
       "            }, 500);\n",
       "            "
      ],
      "text/plain": [
       "<IPython.core.display.Javascript object>"
      ]
     },
     "metadata": {},
     "output_type": "display_data"
    }
   ],
   "source": [
    "plt.figure(figsize=(15, 9))\n",
    "sns.barplot(\n",
    "    data2[\"weapontype\"].value_counts()[:10].index,\n",
    "    data2[\"weaptype\"].value_counts()[:10].values,\n",
    "    palette=(\"rocket\"),\n",
    ")\n",
    "plt.title(\"Types of weapons used in the attack\")\n",
    "plt.xlabel(\"Weapon of choice\")\n",
    "plt.ylabel(\"Counts\")\n",
    "plt.xticks(rotation=45)\n",
    "plt.show()"
   ]
  },
  {
   "cell_type": "code",
   "execution_count": 179,
   "metadata": {},
   "outputs": [
    {
     "data": {
      "text/plain": [
       "Iraq                24113\n",
       "Pakistan            13900\n",
       "India               12098\n",
       "Afghanistan         10931\n",
       "Colombia             7922\n",
       "Philippines          6685\n",
       "Peru                 5840\n",
       "El Salvador          5212\n",
       "United States        5065\n",
       "Turkey               4636\n",
       "Israel               4097\n",
       "Thailand             3804\n",
       "Nigeria              3759\n",
       "Northern Ireland     3367\n",
       "Somalia              3160\n",
       "Name: nationality, dtype: int64"
      ]
     },
     "execution_count": 179,
     "metadata": {},
     "output_type": "execute_result"
    },
    {
     "data": {
      "application/javascript": [
       "\n",
       "            setTimeout(function() {\n",
       "                var nbb_cell_id = 179;\n",
       "                var nbb_unformatted_code = \"data2[\\\"nationality\\\"].value_counts()[:15]\";\n",
       "                var nbb_formatted_code = \"data2[\\\"nationality\\\"].value_counts()[:15]\";\n",
       "                var nbb_cells = Jupyter.notebook.get_cells();\n",
       "                for (var i = 0; i < nbb_cells.length; ++i) {\n",
       "                    if (nbb_cells[i].input_prompt_number == nbb_cell_id) {\n",
       "                        if (nbb_cells[i].get_text() == nbb_unformatted_code) {\n",
       "                             nbb_cells[i].set_text(nbb_formatted_code);\n",
       "                        }\n",
       "                        break;\n",
       "                    }\n",
       "                }\n",
       "            }, 500);\n",
       "            "
      ],
      "text/plain": [
       "<IPython.core.display.Javascript object>"
      ]
     },
     "metadata": {},
     "output_type": "display_data"
    }
   ],
   "source": [
    "data2[\"nationality\"].value_counts()[:15]"
   ]
  },
  {
   "cell_type": "code",
   "execution_count": 190,
   "metadata": {},
   "outputs": [
    {
     "data": {
      "application/javascript": [
       "\n",
       "        if (window._pyforest_update_imports_cell) { window._pyforest_update_imports_cell('import matplotlib.pyplot as plt\\nimport pandas as pd\\nimport seaborn as sns'); }\n",
       "    "
      ],
      "text/plain": [
       "<IPython.core.display.Javascript object>"
      ]
     },
     "metadata": {},
     "output_type": "display_data"
    },
    {
     "data": {
      "application/javascript": [
       "\n",
       "        if (window._pyforest_update_imports_cell) { window._pyforest_update_imports_cell('import matplotlib.pyplot as plt\\nimport pandas as pd\\nimport seaborn as sns'); }\n",
       "    "
      ],
      "text/plain": [
       "<IPython.core.display.Javascript object>"
      ]
     },
     "metadata": {},
     "output_type": "display_data"
    },
    {
     "data": {
      "application/javascript": [
       "\n",
       "        if (window._pyforest_update_imports_cell) { window._pyforest_update_imports_cell('import matplotlib.pyplot as plt\\nimport pandas as pd\\nimport seaborn as sns'); }\n",
       "    "
      ],
      "text/plain": [
       "<IPython.core.display.Javascript object>"
      ]
     },
     "metadata": {},
     "output_type": "display_data"
    },
    {
     "data": {
      "application/javascript": [
       "\n",
       "        if (window._pyforest_update_imports_cell) { window._pyforest_update_imports_cell('import matplotlib.pyplot as plt\\nimport pandas as pd\\nimport seaborn as sns'); }\n",
       "    "
      ],
      "text/plain": [
       "<IPython.core.display.Javascript object>"
      ]
     },
     "metadata": {},
     "output_type": "display_data"
    },
    {
     "data": {
      "application/javascript": [
       "\n",
       "        if (window._pyforest_update_imports_cell) { window._pyforest_update_imports_cell('import matplotlib.pyplot as plt\\nimport pandas as pd\\nimport seaborn as sns'); }\n",
       "    "
      ],
      "text/plain": [
       "<IPython.core.display.Javascript object>"
      ]
     },
     "metadata": {},
     "output_type": "display_data"
    },
    {
     "data": {
      "application/javascript": [
       "\n",
       "        if (window._pyforest_update_imports_cell) { window._pyforest_update_imports_cell('import matplotlib.pyplot as plt\\nimport pandas as pd\\nimport seaborn as sns'); }\n",
       "    "
      ],
      "text/plain": [
       "<IPython.core.display.Javascript object>"
      ]
     },
     "metadata": {},
     "output_type": "display_data"
    },
    {
     "data": {
      "application/javascript": [
       "\n",
       "        if (window._pyforest_update_imports_cell) { window._pyforest_update_imports_cell('import matplotlib.pyplot as plt\\nimport pandas as pd\\nimport seaborn as sns'); }\n",
       "    "
      ],
      "text/plain": [
       "<IPython.core.display.Javascript object>"
      ]
     },
     "metadata": {},
     "output_type": "display_data"
    },
    {
     "data": {
      "image/png": "[encoded data removed]",
      "text/plain": [
       "<Figure size 1080x648 with 1 Axes>"
      ]
     },
     "metadata": {
      "needs_background": "light"
     },
     "output_type": "display_data"
    },
    {
     "data": {
      "application/javascript": [
       "\n",
       "            setTimeout(function() {\n",
       "                var nbb_cell_id = 190;\n",
       "                var nbb_unformatted_code = \"plt.figure(figsize=(15, 9))\\nsns.barplot(\\n    data2[\\\"nationality\\\"].value_counts()[:15].index,\\n    data2[\\\"natlty1\\\"].value_counts()[:15].values,\\n    palette=(\\\"flare\\\"),\\n)\\nplt.title(\\\"Most nationalities killed\\\")\\nplt.xlabel(\\\"Nationality\\\")\\nplt.ylabel(\\\"Counts\\\")\\nplt.xticks(rotation=45)\\nplt.show();\";\n",
       "                var nbb_formatted_code = \"plt.figure(figsize=(15, 9))\\nsns.barplot(\\n    data2[\\\"nationality\\\"].value_counts()[:15].index,\\n    data2[\\\"natlty1\\\"].value_counts()[:15].values,\\n    palette=(\\\"flare\\\"),\\n)\\nplt.title(\\\"Most nationalities killed\\\")\\nplt.xlabel(\\\"Nationality\\\")\\nplt.ylabel(\\\"Counts\\\")\\nplt.xticks(rotation=45)\\nplt.show()\";\n",
       "                var nbb_cells = Jupyter.notebook.get_cells();\n",
       "                for (var i = 0; i < nbb_cells.length; ++i) {\n",
       "                    if (nbb_cells[i].input_prompt_number == nbb_cell_id) {\n",
       "                        if (nbb_cells[i].get_text() == nbb_unformatted_code) {\n",
       "                             nbb_cells[i].set_text(nbb_formatted_code);\n",
       "                        }\n",
       "                        break;\n",
       "                    }\n",
       "                }\n",
       "            }, 500);\n",
       "            "
      ],
      "text/plain": [
       "<IPython.core.display.Javascript object>"
      ]
     },
     "metadata": {},
     "output_type": "display_data"
    }
   ],
   "source": [
    "plt.figure(figsize=(15, 9))\n",
    "sns.barplot(\n",
    "    data2[\"nationality\"].value_counts()[:15].index,\n",
    "    data2[\"natlty1\"].value_counts()[:15].values,\n",
    "    palette=(\"flare\"),\n",
    ")\n",
    "plt.title(\"Most nationalities killed\")\n",
    "plt.xlabel(\"Nationality\")\n",
    "plt.ylabel(\"Counts\")\n",
    "plt.xticks(rotation=45)\n",
    "plt.show()"
   ]
  },
  {
   "cell_type": "code",
   "execution_count": 191,
   "metadata": {},
   "outputs": [
    {
     "data": {
      "application/javascript": [
       "\n",
       "        if (window._pyforest_update_imports_cell) { window._pyforest_update_imports_cell('import matplotlib.pyplot as plt\\nimport pandas as pd\\nimport seaborn as sns'); }\n",
       "    "
      ],
      "text/plain": [
       "<IPython.core.display.Javascript object>"
      ]
     },
     "metadata": {},
     "output_type": "display_data"
    },
    {
     "data": {
      "application/javascript": [
       "\n",
       "        if (window._pyforest_update_imports_cell) { window._pyforest_update_imports_cell('import matplotlib.pyplot as plt\\nimport pandas as pd\\nimport seaborn as sns'); }\n",
       "    "
      ],
      "text/plain": [
       "<IPython.core.display.Javascript object>"
      ]
     },
     "metadata": {},
     "output_type": "display_data"
    },
    {
     "data": {
      "application/javascript": [
       "\n",
       "        if (window._pyforest_update_imports_cell) { window._pyforest_update_imports_cell('import matplotlib.pyplot as plt\\nimport pandas as pd\\nimport seaborn as sns'); }\n",
       "    "
      ],
      "text/plain": [
       "<IPython.core.display.Javascript object>"
      ]
     },
     "metadata": {},
     "output_type": "display_data"
    },
    {
     "data": {
      "application/javascript": [
       "\n",
       "        if (window._pyforest_update_imports_cell) { window._pyforest_update_imports_cell('import matplotlib.pyplot as plt\\nimport pandas as pd\\nimport seaborn as sns'); }\n",
       "    "
      ],
      "text/plain": [
       "<IPython.core.display.Javascript object>"
      ]
     },
     "metadata": {},
     "output_type": "display_data"
    },
    {
     "data": {
      "application/javascript": [
       "\n",
       "        if (window._pyforest_update_imports_cell) { window._pyforest_update_imports_cell('import matplotlib.pyplot as plt\\nimport pandas as pd\\nimport seaborn as sns'); }\n",
       "    "
      ],
      "text/plain": [
       "<IPython.core.display.Javascript object>"
      ]
     },
     "metadata": {},
     "output_type": "display_data"
    },
    {
     "data": {
      "application/javascript": [
       "\n",
       "        if (window._pyforest_update_imports_cell) { window._pyforest_update_imports_cell('import matplotlib.pyplot as plt\\nimport pandas as pd\\nimport seaborn as sns'); }\n",
       "    "
      ],
      "text/plain": [
       "<IPython.core.display.Javascript object>"
      ]
     },
     "metadata": {},
     "output_type": "display_data"
    },
    {
     "data": {
      "application/javascript": [
       "\n",
       "        if (window._pyforest_update_imports_cell) { window._pyforest_update_imports_cell('import matplotlib.pyplot as plt\\nimport pandas as pd\\nimport seaborn as sns'); }\n",
       "    "
      ],
      "text/plain": [
       "<IPython.core.display.Javascript object>"
      ]
     },
     "metadata": {},
     "output_type": "display_data"
    },
    {
     "data": {
      "image/png": "[encoded data removed]",
      "text/plain": [
       "<Figure size 1080x648 with 1 Axes>"
      ]
     },
     "metadata": {
      "needs_background": "light"
     },
     "output_type": "display_data"
    },
    {
     "data": {
      "application/javascript": [
       "\n",
       "            setTimeout(function() {\n",
       "                var nbb_cell_id = 191;\n",
       "                var nbb_unformatted_code = \"plt.figure(figsize=(15, 9))\\nsns.barplot(\\n    data2[\\\"terrorist_group\\\"].value_counts()[1:10].index,\\n    data2[\\\"terrorist_group\\\"].value_counts()[1:10].values,\\n    palette=(\\\"crest\\\"),\\n)\\nplt.title(\\\"Terrorist groups involved\\\")\\nplt.xlabel(\\\"Terrorist group\\\")\\nplt.ylabel(\\\"Counts\\\")\\nplt.xticks(rotation=90)\\nplt.show();\";\n",
       "                var nbb_formatted_code = \"plt.figure(figsize=(15, 9))\\nsns.barplot(\\n    data2[\\\"terrorist_group\\\"].value_counts()[1:10].index,\\n    data2[\\\"terrorist_group\\\"].value_counts()[1:10].values,\\n    palette=(\\\"crest\\\"),\\n)\\nplt.title(\\\"Terrorist groups involved\\\")\\nplt.xlabel(\\\"Terrorist group\\\")\\nplt.ylabel(\\\"Counts\\\")\\nplt.xticks(rotation=90)\\nplt.show()\";\n",
       "                var nbb_cells = Jupyter.notebook.get_cells();\n",
       "                for (var i = 0; i < nbb_cells.length; ++i) {\n",
       "                    if (nbb_cells[i].input_prompt_number == nbb_cell_id) {\n",
       "                        if (nbb_cells[i].get_text() == nbb_unformatted_code) {\n",
       "                             nbb_cells[i].set_text(nbb_formatted_code);\n",
       "                        }\n",
       "                        break;\n",
       "                    }\n",
       "                }\n",
       "            }, 500);\n",
       "            "
      ],
      "text/plain": [
       "<IPython.core.display.Javascript object>"
      ]
     },
     "metadata": {},
     "output_type": "display_data"
    }
   ],
   "source": [
    "plt.figure(figsize=(15, 9))\n",
    "sns.barplot(\n",
    "    data2[\"terrorist_group\"].value_counts()[1:10].index,\n",
    "    data2[\"terrorist_group\"].value_counts()[1:10].values,\n",
    "    palette=(\"crest\"),\n",
    ")\n",
    "plt.title(\"Terrorist groups involved\")\n",
    "plt.xlabel(\"Terrorist group\")\n",
    "plt.ylabel(\"Counts\")\n",
    "plt.xticks(rotation=90)\n",
    "plt.show()"
   ]
  },
  {
   "cell_type": "code",
   "execution_count": 204,
   "metadata": {},
   "outputs": [
    {
     "name": "stdout",
     "output_type": "stream",
     "text": [
      "Total number of people killed in terrorist attacks between 1970 and 2017 are 411868.0\n",
      "\n",
      "Total number of people killed in terrorist attacks between 1970 and 2017 are 523869.0\n",
      "\n",
      "Total number of people affected by terrorist attacks between 1970 and 2017 are 935737.0\n"
     ]
    },
    {
     "data": {
      "application/javascript": [
       "\n",
       "            setTimeout(function() {\n",
       "                var nbb_cell_id = 204;\n",
       "                var nbb_unformatted_code = \"print(\\n    \\\"Total number of people killed in terrorist attacks between 1970 and 2017 are \\\"\\n    + str(data2[\\\"killed\\\"].sum())\\n)\\nprint()\\nprint(\\n    \\\"Total number of people killed in terrorist attacks between 1970 and 2017 are \\\"\\n    + str(data2[\\\"wounded\\\"].sum())\\n)\\nprint()\\nprint(\\n    \\\"Total number of people affected by terrorist attacks between 1970 and 2017 are \\\"\\n    + str(data2[\\\"killed\\\"].sum() + data2[\\\"wounded\\\"].sum())\\n)\";\n",
       "                var nbb_formatted_code = \"print(\\n    \\\"Total number of people killed in terrorist attacks between 1970 and 2017 are \\\"\\n    + str(data2[\\\"killed\\\"].sum())\\n)\\nprint()\\nprint(\\n    \\\"Total number of people killed in terrorist attacks between 1970 and 2017 are \\\"\\n    + str(data2[\\\"wounded\\\"].sum())\\n)\\nprint()\\nprint(\\n    \\\"Total number of people affected by terrorist attacks between 1970 and 2017 are \\\"\\n    + str(data2[\\\"killed\\\"].sum() + data2[\\\"wounded\\\"].sum())\\n)\";\n",
       "                var nbb_cells = Jupyter.notebook.get_cells();\n",
       "                for (var i = 0; i < nbb_cells.length; ++i) {\n",
       "                    if (nbb_cells[i].input_prompt_number == nbb_cell_id) {\n",
       "                        if (nbb_cells[i].get_text() == nbb_unformatted_code) {\n",
       "                             nbb_cells[i].set_text(nbb_formatted_code);\n",
       "                        }\n",
       "                        break;\n",
       "                    }\n",
       "                }\n",
       "            }, 500);\n",
       "            "
      ],
      "text/plain": [
       "<IPython.core.display.Javascript object>"
      ]
     },
     "metadata": {},
     "output_type": "display_data"
    }
   ],
   "source": [
    "print(\n",
    "    \"Total number of people killed in terrorist attacks between 1970 and 2017 are \"\n",
    "    + str(data2[\"killed\"].sum())\n",
    ")\n",
    "print()\n",
    "print(\n",
    "    \"Total number of people killed in terrorist attacks between 1970 and 2017 are \"\n",
    "    + str(data2[\"wounded\"].sum())\n",
    ")\n",
    "print()\n",
    "print(\n",
    "    \"Total number of people affected by terrorist attacks between 1970 and 2017 are \"\n",
    "    + str(data2[\"killed\"].sum() + data2[\"wounded\"].sum())\n",
    ")"
   ]
  },
  {
   "cell_type": "markdown",
   "metadata": {},
   "source": [
    "Other key findings:\n",
    "1. 2014 saw the most number of terrorist attacks (Total=16903), closely followed by 2015 (Total=14965) and 2016 (13587).\n",
    "\n",
    "2. Iraq is the most attacked country in the world.\n",
    "\n",
    "3. Baghdad is the unsafest city in the world, witnessing 7589 attacks.\n",
    "\n",
    "4. 21151 people have been killed in Baghdad, and 78589 people in Iraq.\n",
    "\n",
    "4. Bombing/Explosion is most frequent methods of attacks.\n",
    "\n",
    "5. Explosives and firearms are mostly used weapons in attacks.\n",
    "\n",
    "6. Till 2017, 24113 Iraqi nationals have been killed in terrorist attacks.\n",
    "\n",
    "7. Taliban was involved in most of the terrorist attacks."
   ]
  }
 ],
 "metadata": {
  "kernelspec": {
   "display_name": "Python 3",
   "language": "python",
   "name": "python3"
  },
  "language_info": {
   "codemirror_mode": {
    "name": "ipython",
    "version": 3
   },
   "file_extension": ".py",
   "mimetype": "text/x-python",
   "name": "python",
   "nbconvert_exporter": "python",
   "pygments_lexer": "ipython3",
   "version": "3.8.5"
  }
 },
 "nbformat": 4,
 "nbformat_minor": 4
}
